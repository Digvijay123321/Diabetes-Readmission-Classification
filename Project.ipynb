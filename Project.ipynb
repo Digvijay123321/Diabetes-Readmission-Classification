{
 "cells": [
  {
   "cell_type": "code",
   "execution_count": 56,
   "id": "1d24789a",
   "metadata": {},
   "outputs": [],
   "source": [
    "import pandas as pd\n",
    "import numpy as np\n",
    "import seaborn as sns\n",
    "import matplotlib.pyplot as plt\n",
    "from sklearn.model_selection import train_test_split\n",
    "from sklearn.metrics import accuracy_score"
   ]
  },
  {
   "cell_type": "code",
   "execution_count": 2,
   "id": "11261dab",
   "metadata": {},
   "outputs": [],
   "source": [
    "ids_df = pd.read_csv(\"./IDS_mapping.csv\")\n",
    "df = pd.read_csv(\"./diabetic_data.csv\")"
   ]
  },
  {
   "cell_type": "code",
   "execution_count": 3,
   "id": "f5683e2a",
   "metadata": {},
   "outputs": [],
   "source": [
    "#splitting data of ids file\n",
    "admission_type_id_df = ids_df.iloc[:8]\n",
    "\n",
    "discharge_disposition_id_df = ids_df.iloc[10:40]\n",
    "discharge_disposition_id_df = discharge_disposition_id_df.rename(columns={'admission_type_id': 'discharge_disposition_id'})\n",
    "\n",
    "\n",
    "admission_source_id_df = ids_df.iloc[42:]\n",
    "admission_source_id_df = admission_source_id_df.rename(columns={'admission_type_id': 'admission_source_id'})\n"
   ]
  },
  {
   "cell_type": "code",
   "execution_count": 4,
   "id": "b30ac464",
   "metadata": {},
   "outputs": [
    {
     "data": {
      "text/html": [
       "<div>\n",
       "<style scoped>\n",
       "    .dataframe tbody tr th:only-of-type {\n",
       "        vertical-align: middle;\n",
       "    }\n",
       "\n",
       "    .dataframe tbody tr th {\n",
       "        vertical-align: top;\n",
       "    }\n",
       "\n",
       "    .dataframe thead th {\n",
       "        text-align: right;\n",
       "    }\n",
       "</style>\n",
       "<table border=\"1\" class=\"dataframe\">\n",
       "  <thead>\n",
       "    <tr style=\"text-align: right;\">\n",
       "      <th></th>\n",
       "      <th>discharge_disposition_id</th>\n",
       "      <th>description</th>\n",
       "    </tr>\n",
       "  </thead>\n",
       "  <tbody>\n",
       "    <tr>\n",
       "      <th>10</th>\n",
       "      <td>1</td>\n",
       "      <td>Discharged to home</td>\n",
       "    </tr>\n",
       "    <tr>\n",
       "      <th>11</th>\n",
       "      <td>2</td>\n",
       "      <td>Discharged/transferred to another short term h...</td>\n",
       "    </tr>\n",
       "    <tr>\n",
       "      <th>12</th>\n",
       "      <td>3</td>\n",
       "      <td>Discharged/transferred to SNF</td>\n",
       "    </tr>\n",
       "    <tr>\n",
       "      <th>13</th>\n",
       "      <td>4</td>\n",
       "      <td>Discharged/transferred to ICF</td>\n",
       "    </tr>\n",
       "    <tr>\n",
       "      <th>14</th>\n",
       "      <td>5</td>\n",
       "      <td>Discharged/transferred to another type of inpa...</td>\n",
       "    </tr>\n",
       "    <tr>\n",
       "      <th>15</th>\n",
       "      <td>6</td>\n",
       "      <td>Discharged/transferred to home with home healt...</td>\n",
       "    </tr>\n",
       "    <tr>\n",
       "      <th>16</th>\n",
       "      <td>7</td>\n",
       "      <td>Left AMA</td>\n",
       "    </tr>\n",
       "    <tr>\n",
       "      <th>17</th>\n",
       "      <td>8</td>\n",
       "      <td>Discharged/transferred to home under care of H...</td>\n",
       "    </tr>\n",
       "    <tr>\n",
       "      <th>18</th>\n",
       "      <td>9</td>\n",
       "      <td>Admitted as an inpatient to this hospital</td>\n",
       "    </tr>\n",
       "    <tr>\n",
       "      <th>19</th>\n",
       "      <td>10</td>\n",
       "      <td>Neonate discharged to another hospital for neo...</td>\n",
       "    </tr>\n",
       "    <tr>\n",
       "      <th>20</th>\n",
       "      <td>11</td>\n",
       "      <td>Expired</td>\n",
       "    </tr>\n",
       "    <tr>\n",
       "      <th>21</th>\n",
       "      <td>12</td>\n",
       "      <td>Still patient or expected to return for outpat...</td>\n",
       "    </tr>\n",
       "    <tr>\n",
       "      <th>22</th>\n",
       "      <td>13</td>\n",
       "      <td>Hospice / home</td>\n",
       "    </tr>\n",
       "    <tr>\n",
       "      <th>23</th>\n",
       "      <td>14</td>\n",
       "      <td>Hospice / medical facility</td>\n",
       "    </tr>\n",
       "    <tr>\n",
       "      <th>24</th>\n",
       "      <td>15</td>\n",
       "      <td>Discharged/transferred within this institution...</td>\n",
       "    </tr>\n",
       "    <tr>\n",
       "      <th>25</th>\n",
       "      <td>16</td>\n",
       "      <td>Discharged/transferred/referred another instit...</td>\n",
       "    </tr>\n",
       "    <tr>\n",
       "      <th>26</th>\n",
       "      <td>17</td>\n",
       "      <td>Discharged/transferred/referred to this instit...</td>\n",
       "    </tr>\n",
       "    <tr>\n",
       "      <th>27</th>\n",
       "      <td>18</td>\n",
       "      <td>NaN</td>\n",
       "    </tr>\n",
       "    <tr>\n",
       "      <th>28</th>\n",
       "      <td>19</td>\n",
       "      <td>Expired at home. Medicaid only, hospice.</td>\n",
       "    </tr>\n",
       "    <tr>\n",
       "      <th>29</th>\n",
       "      <td>20</td>\n",
       "      <td>Expired in a medical facility. Medicaid only, ...</td>\n",
       "    </tr>\n",
       "    <tr>\n",
       "      <th>30</th>\n",
       "      <td>21</td>\n",
       "      <td>Expired, place unknown. Medicaid only, hospice.</td>\n",
       "    </tr>\n",
       "    <tr>\n",
       "      <th>31</th>\n",
       "      <td>22</td>\n",
       "      <td>Discharged/transferred to another rehab fac in...</td>\n",
       "    </tr>\n",
       "    <tr>\n",
       "      <th>32</th>\n",
       "      <td>23</td>\n",
       "      <td>Discharged/transferred to a long term care hos...</td>\n",
       "    </tr>\n",
       "    <tr>\n",
       "      <th>33</th>\n",
       "      <td>24</td>\n",
       "      <td>Discharged/transferred to a nursing facility c...</td>\n",
       "    </tr>\n",
       "    <tr>\n",
       "      <th>34</th>\n",
       "      <td>25</td>\n",
       "      <td>Not Mapped</td>\n",
       "    </tr>\n",
       "    <tr>\n",
       "      <th>35</th>\n",
       "      <td>26</td>\n",
       "      <td>Unknown/Invalid</td>\n",
       "    </tr>\n",
       "    <tr>\n",
       "      <th>36</th>\n",
       "      <td>30</td>\n",
       "      <td>Discharged/transferred to another Type of Heal...</td>\n",
       "    </tr>\n",
       "    <tr>\n",
       "      <th>37</th>\n",
       "      <td>27</td>\n",
       "      <td>Discharged/transferred to a federal health car...</td>\n",
       "    </tr>\n",
       "    <tr>\n",
       "      <th>38</th>\n",
       "      <td>28</td>\n",
       "      <td>Discharged/transferred/referred to a psychiatr...</td>\n",
       "    </tr>\n",
       "    <tr>\n",
       "      <th>39</th>\n",
       "      <td>29</td>\n",
       "      <td>Discharged/transferred to a Critical Access Ho...</td>\n",
       "    </tr>\n",
       "  </tbody>\n",
       "</table>\n",
       "</div>"
      ],
      "text/plain": [
       "   discharge_disposition_id                                        description\n",
       "10                        1                                 Discharged to home\n",
       "11                        2  Discharged/transferred to another short term h...\n",
       "12                        3                      Discharged/transferred to SNF\n",
       "13                        4                      Discharged/transferred to ICF\n",
       "14                        5  Discharged/transferred to another type of inpa...\n",
       "15                        6  Discharged/transferred to home with home healt...\n",
       "16                        7                                           Left AMA\n",
       "17                        8  Discharged/transferred to home under care of H...\n",
       "18                        9          Admitted as an inpatient to this hospital\n",
       "19                       10  Neonate discharged to another hospital for neo...\n",
       "20                       11                                            Expired\n",
       "21                       12  Still patient or expected to return for outpat...\n",
       "22                       13                                     Hospice / home\n",
       "23                       14                         Hospice / medical facility\n",
       "24                       15  Discharged/transferred within this institution...\n",
       "25                       16  Discharged/transferred/referred another instit...\n",
       "26                       17  Discharged/transferred/referred to this instit...\n",
       "27                       18                                                NaN\n",
       "28                       19           Expired at home. Medicaid only, hospice.\n",
       "29                       20  Expired in a medical facility. Medicaid only, ...\n",
       "30                       21    Expired, place unknown. Medicaid only, hospice.\n",
       "31                       22  Discharged/transferred to another rehab fac in...\n",
       "32                       23  Discharged/transferred to a long term care hos...\n",
       "33                       24  Discharged/transferred to a nursing facility c...\n",
       "34                       25                                         Not Mapped\n",
       "35                       26                                    Unknown/Invalid\n",
       "36                       30  Discharged/transferred to another Type of Heal...\n",
       "37                       27  Discharged/transferred to a federal health car...\n",
       "38                       28  Discharged/transferred/referred to a psychiatr...\n",
       "39                       29  Discharged/transferred to a Critical Access Ho..."
      ]
     },
     "execution_count": 4,
     "metadata": {},
     "output_type": "execute_result"
    }
   ],
   "source": [
    "discharge_disposition_id_df"
   ]
  },
  {
   "cell_type": "code",
   "execution_count": 5,
   "id": "5cd8af4e",
   "metadata": {},
   "outputs": [
    {
     "data": {
      "text/plain": [
       "encounter_id                    0\n",
       "patient_nbr                     0\n",
       "race                            0\n",
       "gender                          0\n",
       "age                             0\n",
       "weight                          0\n",
       "admission_type_id               0\n",
       "discharge_disposition_id        0\n",
       "admission_source_id             0\n",
       "time_in_hospital                0\n",
       "payer_code                      0\n",
       "medical_specialty               0\n",
       "num_lab_procedures              0\n",
       "num_procedures                  0\n",
       "num_medications                 0\n",
       "number_outpatient               0\n",
       "number_emergency                0\n",
       "number_inpatient                0\n",
       "diag_1                          0\n",
       "diag_2                          0\n",
       "diag_3                          0\n",
       "number_diagnoses                0\n",
       "max_glu_serum               96420\n",
       "A1Cresult                   84748\n",
       "metformin                       0\n",
       "repaglinide                     0\n",
       "nateglinide                     0\n",
       "chlorpropamide                  0\n",
       "glimepiride                     0\n",
       "acetohexamide                   0\n",
       "glipizide                       0\n",
       "glyburide                       0\n",
       "tolbutamide                     0\n",
       "pioglitazone                    0\n",
       "rosiglitazone                   0\n",
       "acarbose                        0\n",
       "miglitol                        0\n",
       "troglitazone                    0\n",
       "tolazamide                      0\n",
       "examide                         0\n",
       "citoglipton                     0\n",
       "insulin                         0\n",
       "glyburide-metformin             0\n",
       "glipizide-metformin             0\n",
       "glimepiride-pioglitazone        0\n",
       "metformin-rosiglitazone         0\n",
       "metformin-pioglitazone          0\n",
       "change                          0\n",
       "diabetesMed                     0\n",
       "readmitted                      0\n",
       "dtype: int64"
      ]
     },
     "execution_count": 5,
     "metadata": {},
     "output_type": "execute_result"
    }
   ],
   "source": [
    "df.isnull().sum()"
   ]
  },
  {
   "cell_type": "markdown",
   "id": "7d56250f",
   "metadata": {},
   "source": [
    "### we have,\n",
    "\n",
    "1. 30248 repeated patients\n",
    "2. all unique encounter_id\n",
    "3. 2273 patients with unknown race marked by '?'\n",
    "4. 3 records with 'Unknown/Invalid' gender\n",
    "5. all records of age\n",
    "6. 98569 unknown weights marked by '?'\n",
    "7. 9 admission_type_id\n",
    "8. discharge_disposition_id {21, 26} missing\n",
    "9. admission_source_id {12, 15, 16, 18, 19, 21, 23, 24} missing\n",
    "10. Integer: number of days between admission and discharge\n",
    "11. 40256 unknown payer_code marked by '?' with 17 distinct providers #why dataset info has 23 distinct values??\n",
    "12. 49949 unknown medical_specialty marked by '?' with 72 distinct specialist  #why dataset info has 84 distinct values??\n",
    "13. Number of lab tests performed during the encounter with min 1 and max 132\n",
    "14. Number of procedures (other than lab tests) performed during the encounter min 0 and max 6\n",
    "15. Number of distinct generic names administered during the encounter min 1 and max 81\n",
    "16. Number of outpatient visits of the patient in the year preceding the encounter(vistis without hospitalizing).\n",
    "17. Number of emergency visits of the patient in the year preceding the encounter\n",
    "18. The number of times a patient is admitted to a hospital for medical care\n",
    "19. The primary diagnosis (coded as first three digits of ICD9); 717 distinct values #why dataset info has 848 distinct values??\n",
    "20. Secondary diagnosis (coded as first three digits of ICD9); 749 distinct values #why dataset info has 923 distinct values??\n",
    "21. Additional secondary diagnosis (coded as first three digits of ICD9); 790 distinct values #why dataset info has 954 distinct values??\n",
    "22. Number of diagnoses entered to the system\n",
    "23. Indicates the range of the result or if the test was not taken. Values: >200, >300, normal, and none if not measured\n",
    "24. If the test was not taken. Values: >8 if the result was greater than 8%, >7 if the result was greater than 7% but less than 8%, normal if the result was less than 7%, and none if not measured.\n",
    "25. Whether the drug was prescribed or there was a change in the dosage.\n",
    "26. Whether the drug was prescribed or there was a change in the dosage.\n",
    "27. Whether the drug was prescribed or there was a change in the dosage.\n",
    "28. Whether the drug was prescribed or there was a change in the dosage.\n",
    "29. Whether the drug was prescribed or there was a change in the dosage.\n",
    "30. Whether the drug was prescribed or there was a change in the dosage. # why does dataset have 2 values\n",
    "31. Whether the drug was prescribed or there was a change in the dosage.\n",
    "32. Whether the drug was prescribed or there was a change in the dosage.\n",
    "33. Whether the drug was prescribed or there was a change in the dosage. # why does dataset have 2 values\n",
    "34. Whether the drug was prescribed or there was a change in the dosage.\n",
    "35. Whether the drug was prescribed or there was a change in the dosage.\n",
    "36. Whether the drug was prescribed or there was a change in the dosage.\n",
    "37. Whether the drug was prescribed or there was a change in the dosage.\n",
    "38. Whether the drug was prescribed or there was a change in the dosage. # why does dataset have 2 values\n",
    "39. Whether the drug was prescribed or there was a change in the dosage. # why does dataset have 3 values\n",
    "40. Whether the drug was prescribed or there was a change in the dosage. # why does dataset have 1 value i.e No\n",
    "41. Whether the drug was prescribed or there was a change in the dosage. # why does dataset have 1 value i.e No\n",
    "42. Whether the drug was prescribed or there was a change in the dosage.\n",
    "43. Whether the drug was prescribed or there was a change in the dosage.\n",
    "44. Whether the drug was prescribed or there was a change in the dosage. # why does dataset have 2 values\n",
    "45. Whether the drug was prescribed or there was a change in the dosage. # why does dataset have 2 values\n",
    "46. Whether the drug was prescribed or there was a change in the dosage. # why does dataset have 2 values\n",
    "47. Whether the drug was prescribed or there was a change in the dosage. # why does dataset have 2 values\n",
    "48. Indicates if there was a change in diabetic medications.\n",
    "49. Indicates if there was any diabetic medication prescribed.\n",
    "50. Days to inpatient readmission. {'<30', '>30', 'No'}"
   ]
  },
  {
   "cell_type": "code",
   "execution_count": 6,
   "id": "5077f23e",
   "metadata": {},
   "outputs": [],
   "source": [
    "# dropping 'max_glu_serum', 'A1Cresult' columns as the null values are too high\n",
    "df = df.drop(['max_glu_serum', 'A1Cresult'], axis = 1)"
   ]
  },
  {
   "cell_type": "code",
   "execution_count": 7,
   "id": "7fbbb51e",
   "metadata": {},
   "outputs": [
    {
     "data": {
      "text/plain": [
       "encounter_id                    0\n",
       "patient_nbr                     0\n",
       "race                         2273\n",
       "gender                          0\n",
       "age                             0\n",
       "weight                      98569\n",
       "admission_type_id               0\n",
       "discharge_disposition_id        0\n",
       "admission_source_id             0\n",
       "time_in_hospital                0\n",
       "payer_code                  40256\n",
       "medical_specialty           49949\n",
       "num_lab_procedures              0\n",
       "num_procedures                  0\n",
       "num_medications                 0\n",
       "number_outpatient               0\n",
       "number_emergency                0\n",
       "number_inpatient                0\n",
       "diag_1                         21\n",
       "diag_2                        358\n",
       "diag_3                       1423\n",
       "number_diagnoses                0\n",
       "metformin                       0\n",
       "repaglinide                     0\n",
       "nateglinide                     0\n",
       "chlorpropamide                  0\n",
       "glimepiride                     0\n",
       "acetohexamide                   0\n",
       "glipizide                       0\n",
       "glyburide                       0\n",
       "tolbutamide                     0\n",
       "pioglitazone                    0\n",
       "rosiglitazone                   0\n",
       "acarbose                        0\n",
       "miglitol                        0\n",
       "troglitazone                    0\n",
       "tolazamide                      0\n",
       "examide                         0\n",
       "citoglipton                     0\n",
       "insulin                         0\n",
       "glyburide-metformin             0\n",
       "glipizide-metformin             0\n",
       "glimepiride-pioglitazone        0\n",
       "metformin-rosiglitazone         0\n",
       "metformin-pioglitazone          0\n",
       "change                          0\n",
       "diabetesMed                     0\n",
       "readmitted                      0\n",
       "dtype: int64"
      ]
     },
     "execution_count": 7,
     "metadata": {},
     "output_type": "execute_result"
    }
   ],
   "source": [
    "# '?' existing in the data\n",
    "df.isin(['?']).sum()"
   ]
  },
  {
   "cell_type": "code",
   "execution_count": 6,
   "id": "4aefae95",
   "metadata": {},
   "outputs": [],
   "source": [
    "# print(df[df['medical_specialty'] == '?'].shape)\n",
    "\n",
    "# # has '?' in 2273 columns"
   ]
  },
  {
   "cell_type": "code",
   "execution_count": 7,
   "id": "7399194a",
   "metadata": {},
   "outputs": [],
   "source": [
    "# dropping 'weight', 'payer_code' and 'medical_specialty' columns - a lot of '?' values exist\n",
    "df = df.drop(['weight', 'payer_code', 'medical_specialty'], axis = 1)"
   ]
  },
  {
   "cell_type": "code",
   "execution_count": 8,
   "id": "7626f834",
   "metadata": {},
   "outputs": [],
   "source": [
    "df.replace('?', np.nan, inplace = True)"
   ]
  },
  {
   "cell_type": "code",
   "execution_count": 9,
   "id": "780a17a9",
   "metadata": {},
   "outputs": [
    {
     "data": {
      "text/plain": [
       "encounter_id                0\n",
       "patient_nbr                 0\n",
       "race                        0\n",
       "gender                      0\n",
       "age                         0\n",
       "admission_type_id           0\n",
       "discharge_disposition_id    0\n",
       "admission_source_id         0\n",
       "time_in_hospital            0\n",
       "num_lab_procedures          0\n",
       "num_procedures              0\n",
       "num_medications             0\n",
       "number_outpatient           0\n",
       "number_emergency            0\n",
       "number_inpatient            0\n",
       "diag_1                      0\n",
       "diag_2                      0\n",
       "diag_3                      0\n",
       "number_diagnoses            0\n",
       "max_glu_serum               0\n",
       "A1Cresult                   0\n",
       "metformin                   0\n",
       "repaglinide                 0\n",
       "nateglinide                 0\n",
       "chlorpropamide              0\n",
       "glimepiride                 0\n",
       "acetohexamide               0\n",
       "glipizide                   0\n",
       "glyburide                   0\n",
       "tolbutamide                 0\n",
       "pioglitazone                0\n",
       "rosiglitazone               0\n",
       "acarbose                    0\n",
       "miglitol                    0\n",
       "troglitazone                0\n",
       "tolazamide                  0\n",
       "examide                     0\n",
       "citoglipton                 0\n",
       "insulin                     0\n",
       "glyburide-metformin         0\n",
       "glipizide-metformin         0\n",
       "glimepiride-pioglitazone    0\n",
       "metformin-rosiglitazone     0\n",
       "metformin-pioglitazone      0\n",
       "change                      0\n",
       "diabetesMed                 0\n",
       "readmitted                  0\n",
       "dtype: int64"
      ]
     },
     "execution_count": 9,
     "metadata": {},
     "output_type": "execute_result"
    }
   ],
   "source": [
    "df.isin(['?']).sum()"
   ]
  },
  {
   "cell_type": "code",
   "execution_count": 10,
   "id": "ebf50769",
   "metadata": {},
   "outputs": [
    {
     "data": {
      "text/plain": [
       "encounter_id                    0\n",
       "patient_nbr                     0\n",
       "race                         2273\n",
       "gender                          0\n",
       "age                             0\n",
       "admission_type_id               0\n",
       "discharge_disposition_id        0\n",
       "admission_source_id             0\n",
       "time_in_hospital                0\n",
       "num_lab_procedures              0\n",
       "num_procedures                  0\n",
       "num_medications                 0\n",
       "number_outpatient               0\n",
       "number_emergency                0\n",
       "number_inpatient                0\n",
       "diag_1                         21\n",
       "diag_2                        358\n",
       "diag_3                       1423\n",
       "number_diagnoses                0\n",
       "max_glu_serum               96420\n",
       "A1Cresult                   84748\n",
       "metformin                       0\n",
       "repaglinide                     0\n",
       "nateglinide                     0\n",
       "chlorpropamide                  0\n",
       "glimepiride                     0\n",
       "acetohexamide                   0\n",
       "glipizide                       0\n",
       "glyburide                       0\n",
       "tolbutamide                     0\n",
       "pioglitazone                    0\n",
       "rosiglitazone                   0\n",
       "acarbose                        0\n",
       "miglitol                        0\n",
       "troglitazone                    0\n",
       "tolazamide                      0\n",
       "examide                         0\n",
       "citoglipton                     0\n",
       "insulin                         0\n",
       "glyburide-metformin             0\n",
       "glipizide-metformin             0\n",
       "glimepiride-pioglitazone        0\n",
       "metformin-rosiglitazone         0\n",
       "metformin-pioglitazone          0\n",
       "change                          0\n",
       "diabetesMed                     0\n",
       "readmitted                      0\n",
       "dtype: int64"
      ]
     },
     "execution_count": 10,
     "metadata": {},
     "output_type": "execute_result"
    }
   ],
   "source": [
    "df.isnull().sum()"
   ]
  },
  {
   "cell_type": "code",
   "execution_count": 11,
   "id": "132be93c",
   "metadata": {},
   "outputs": [],
   "source": [
    "# As we have very less rows with null values - we can drop those rows\n",
    "df.dropna(inplace=True)"
   ]
  },
  {
   "cell_type": "code",
   "execution_count": 12,
   "id": "ca36e427",
   "metadata": {},
   "outputs": [
    {
     "data": {
      "text/plain": [
       "encounter_id                0\n",
       "patient_nbr                 0\n",
       "race                        0\n",
       "gender                      0\n",
       "age                         0\n",
       "admission_type_id           0\n",
       "discharge_disposition_id    0\n",
       "admission_source_id         0\n",
       "time_in_hospital            0\n",
       "num_lab_procedures          0\n",
       "num_procedures              0\n",
       "num_medications             0\n",
       "number_outpatient           0\n",
       "number_emergency            0\n",
       "number_inpatient            0\n",
       "diag_1                      0\n",
       "diag_2                      0\n",
       "diag_3                      0\n",
       "number_diagnoses            0\n",
       "max_glu_serum               0\n",
       "A1Cresult                   0\n",
       "metformin                   0\n",
       "repaglinide                 0\n",
       "nateglinide                 0\n",
       "chlorpropamide              0\n",
       "glimepiride                 0\n",
       "acetohexamide               0\n",
       "glipizide                   0\n",
       "glyburide                   0\n",
       "tolbutamide                 0\n",
       "pioglitazone                0\n",
       "rosiglitazone               0\n",
       "acarbose                    0\n",
       "miglitol                    0\n",
       "troglitazone                0\n",
       "tolazamide                  0\n",
       "examide                     0\n",
       "citoglipton                 0\n",
       "insulin                     0\n",
       "glyburide-metformin         0\n",
       "glipizide-metformin         0\n",
       "glimepiride-pioglitazone    0\n",
       "metformin-rosiglitazone     0\n",
       "metformin-pioglitazone      0\n",
       "change                      0\n",
       "diabetesMed                 0\n",
       "readmitted                  0\n",
       "dtype: int64"
      ]
     },
     "execution_count": 12,
     "metadata": {},
     "output_type": "execute_result"
    }
   ],
   "source": [
    "df.isnull().sum()"
   ]
  },
  {
   "cell_type": "code",
   "execution_count": 13,
   "id": "6f9f8345",
   "metadata": {},
   "outputs": [
    {
     "data": {
      "text/plain": [
       "(289, 47)"
      ]
     },
     "execution_count": 13,
     "metadata": {},
     "output_type": "execute_result"
    }
   ],
   "source": [
    "df.shape"
   ]
  },
  {
   "cell_type": "code",
   "execution_count": 14,
   "id": "6ca6835b",
   "metadata": {},
   "outputs": [
    {
     "data": {
      "text/plain": [
       "encounter_id                 int64\n",
       "patient_nbr                  int64\n",
       "race                        object\n",
       "gender                      object\n",
       "age                         object\n",
       "admission_type_id            int64\n",
       "discharge_disposition_id     int64\n",
       "admission_source_id          int64\n",
       "time_in_hospital             int64\n",
       "num_lab_procedures           int64\n",
       "num_procedures               int64\n",
       "num_medications              int64\n",
       "number_outpatient            int64\n",
       "number_emergency             int64\n",
       "number_inpatient             int64\n",
       "diag_1                      object\n",
       "diag_2                      object\n",
       "diag_3                      object\n",
       "number_diagnoses             int64\n",
       "max_glu_serum               object\n",
       "A1Cresult                   object\n",
       "metformin                   object\n",
       "repaglinide                 object\n",
       "nateglinide                 object\n",
       "chlorpropamide              object\n",
       "glimepiride                 object\n",
       "acetohexamide               object\n",
       "glipizide                   object\n",
       "glyburide                   object\n",
       "tolbutamide                 object\n",
       "pioglitazone                object\n",
       "rosiglitazone               object\n",
       "acarbose                    object\n",
       "miglitol                    object\n",
       "troglitazone                object\n",
       "tolazamide                  object\n",
       "examide                     object\n",
       "citoglipton                 object\n",
       "insulin                     object\n",
       "glyburide-metformin         object\n",
       "glipizide-metformin         object\n",
       "glimepiride-pioglitazone    object\n",
       "metformin-rosiglitazone     object\n",
       "metformin-pioglitazone      object\n",
       "change                      object\n",
       "diabetesMed                 object\n",
       "readmitted                  object\n",
       "dtype: object"
      ]
     },
     "execution_count": 14,
     "metadata": {},
     "output_type": "execute_result"
    }
   ],
   "source": [
    "df.dtypes"
   ]
  },
  {
   "cell_type": "code",
   "execution_count": 15,
   "id": "bfcf3f55",
   "metadata": {},
   "outputs": [
    {
     "name": "stdout",
     "output_type": "stream",
     "text": [
      "<class 'pandas.core.frame.DataFrame'>\n",
      "Index: 289 entries, 162 to 101088\n",
      "Data columns (total 47 columns):\n",
      " #   Column                    Non-Null Count  Dtype \n",
      "---  ------                    --------------  ----- \n",
      " 0   encounter_id              289 non-null    int64 \n",
      " 1   patient_nbr               289 non-null    int64 \n",
      " 2   race                      289 non-null    object\n",
      " 3   gender                    289 non-null    object\n",
      " 4   age                       289 non-null    object\n",
      " 5   admission_type_id         289 non-null    int64 \n",
      " 6   discharge_disposition_id  289 non-null    int64 \n",
      " 7   admission_source_id       289 non-null    int64 \n",
      " 8   time_in_hospital          289 non-null    int64 \n",
      " 9   num_lab_procedures        289 non-null    int64 \n",
      " 10  num_procedures            289 non-null    int64 \n",
      " 11  num_medications           289 non-null    int64 \n",
      " 12  number_outpatient         289 non-null    int64 \n",
      " 13  number_emergency          289 non-null    int64 \n",
      " 14  number_inpatient          289 non-null    int64 \n",
      " 15  diag_1                    289 non-null    object\n",
      " 16  diag_2                    289 non-null    object\n",
      " 17  diag_3                    289 non-null    object\n",
      " 18  number_diagnoses          289 non-null    int64 \n",
      " 19  max_glu_serum             289 non-null    object\n",
      " 20  A1Cresult                 289 non-null    object\n",
      " 21  metformin                 289 non-null    object\n",
      " 22  repaglinide               289 non-null    object\n",
      " 23  nateglinide               289 non-null    object\n",
      " 24  chlorpropamide            289 non-null    object\n",
      " 25  glimepiride               289 non-null    object\n",
      " 26  acetohexamide             289 non-null    object\n",
      " 27  glipizide                 289 non-null    object\n",
      " 28  glyburide                 289 non-null    object\n",
      " 29  tolbutamide               289 non-null    object\n",
      " 30  pioglitazone              289 non-null    object\n",
      " 31  rosiglitazone             289 non-null    object\n",
      " 32  acarbose                  289 non-null    object\n",
      " 33  miglitol                  289 non-null    object\n",
      " 34  troglitazone              289 non-null    object\n",
      " 35  tolazamide                289 non-null    object\n",
      " 36  examide                   289 non-null    object\n",
      " 37  citoglipton               289 non-null    object\n",
      " 38  insulin                   289 non-null    object\n",
      " 39  glyburide-metformin       289 non-null    object\n",
      " 40  glipizide-metformin       289 non-null    object\n",
      " 41  glimepiride-pioglitazone  289 non-null    object\n",
      " 42  metformin-rosiglitazone   289 non-null    object\n",
      " 43  metformin-pioglitazone    289 non-null    object\n",
      " 44  change                    289 non-null    object\n",
      " 45  diabetesMed               289 non-null    object\n",
      " 46  readmitted                289 non-null    object\n",
      "dtypes: int64(13), object(34)\n",
      "memory usage: 108.4+ KB\n"
     ]
    }
   ],
   "source": [
    "df.info()"
   ]
  },
  {
   "cell_type": "code",
   "execution_count": 16,
   "id": "7ab2c777",
   "metadata": {},
   "outputs": [
    {
     "data": {
      "text/plain": [
       "Index(['encounter_id', 'patient_nbr', 'race', 'gender', 'age',\n",
       "       'admission_type_id', 'discharge_disposition_id', 'admission_source_id',\n",
       "       'time_in_hospital', 'num_lab_procedures', 'num_procedures',\n",
       "       'num_medications', 'number_outpatient', 'number_emergency',\n",
       "       'number_inpatient', 'diag_1', 'diag_2', 'diag_3', 'number_diagnoses',\n",
       "       'max_glu_serum', 'A1Cresult', 'metformin', 'repaglinide', 'nateglinide',\n",
       "       'chlorpropamide', 'glimepiride', 'acetohexamide', 'glipizide',\n",
       "       'glyburide', 'tolbutamide', 'pioglitazone', 'rosiglitazone', 'acarbose',\n",
       "       'miglitol', 'troglitazone', 'tolazamide', 'examide', 'citoglipton',\n",
       "       'insulin', 'glyburide-metformin', 'glipizide-metformin',\n",
       "       'glimepiride-pioglitazone', 'metformin-rosiglitazone',\n",
       "       'metformin-pioglitazone', 'change', 'diabetesMed', 'readmitted'],\n",
       "      dtype='object')"
      ]
     },
     "execution_count": 16,
     "metadata": {},
     "output_type": "execute_result"
    }
   ],
   "source": [
    "df.columns"
   ]
  },
  {
   "cell_type": "code",
   "execution_count": 17,
   "id": "b9229011",
   "metadata": {},
   "outputs": [
    {
     "data": {
      "text/plain": [
       "gender\n",
       "Female    168\n",
       "Male      121\n",
       "Name: count, dtype: int64"
      ]
     },
     "execution_count": 17,
     "metadata": {},
     "output_type": "execute_result"
    }
   ],
   "source": [
    "df['gender'].value_counts()"
   ]
  },
  {
   "cell_type": "code",
   "execution_count": 18,
   "id": "1e7cefbc",
   "metadata": {},
   "outputs": [
    {
     "data": {
      "text/plain": [
       "metformin\n",
       "No        245\n",
       "Steady     36\n",
       "Up          6\n",
       "Down        2\n",
       "Name: count, dtype: int64"
      ]
     },
     "execution_count": 18,
     "metadata": {},
     "output_type": "execute_result"
    }
   ],
   "source": [
    "df['metformin'].value_counts()"
   ]
  },
  {
   "cell_type": "code",
   "execution_count": 19,
   "id": "35bc5c9f",
   "metadata": {},
   "outputs": [
    {
     "name": "stdout",
     "output_type": "stream",
     "text": [
      "Value counts for column 'metformin':\n",
      "metformin\n",
      "No        245\n",
      "Steady     36\n",
      "Up          6\n",
      "Down        2\n",
      "Name: count, dtype: int64\n",
      "\n",
      "Value counts for column 'repaglinide':\n",
      "repaglinide\n",
      "No        278\n",
      "Steady     10\n",
      "Up          1\n",
      "Name: count, dtype: int64\n",
      "\n",
      "Value counts for column 'nateglinide':\n",
      "nateglinide\n",
      "No        288\n",
      "Steady      1\n",
      "Name: count, dtype: int64\n",
      "\n",
      "Value counts for column 'chlorpropamide':\n",
      "chlorpropamide\n",
      "No        288\n",
      "Steady      1\n",
      "Name: count, dtype: int64\n",
      "\n",
      "Value counts for column 'glimepiride':\n",
      "glimepiride\n",
      "No        282\n",
      "Steady      6\n",
      "Up          1\n",
      "Name: count, dtype: int64\n",
      "\n",
      "Value counts for column 'acetohexamide':\n",
      "acetohexamide\n",
      "No    289\n",
      "Name: count, dtype: int64\n",
      "\n",
      "Value counts for column 'glipizide':\n",
      "glipizide\n",
      "No        243\n",
      "Steady     38\n",
      "Up          6\n",
      "Down        2\n",
      "Name: count, dtype: int64\n",
      "\n",
      "Value counts for column 'glyburide':\n",
      "glyburide\n",
      "No        274\n",
      "Steady     14\n",
      "Up          1\n",
      "Name: count, dtype: int64\n",
      "\n",
      "Value counts for column 'tolbutamide':\n",
      "tolbutamide\n",
      "No    289\n",
      "Name: count, dtype: int64\n",
      "\n",
      "Value counts for column 'pioglitazone':\n",
      "pioglitazone\n",
      "No        276\n",
      "Steady     12\n",
      "Down        1\n",
      "Name: count, dtype: int64\n",
      "\n",
      "Value counts for column 'rosiglitazone':\n",
      "rosiglitazone\n",
      "No        279\n",
      "Steady      8\n",
      "Up          2\n",
      "Name: count, dtype: int64\n",
      "\n",
      "Value counts for column 'acarbose':\n",
      "acarbose\n",
      "No        287\n",
      "Steady      1\n",
      "Up          1\n",
      "Name: count, dtype: int64\n",
      "\n",
      "Value counts for column 'miglitol':\n",
      "miglitol\n",
      "No    289\n",
      "Name: count, dtype: int64\n",
      "\n",
      "Value counts for column 'troglitazone':\n",
      "troglitazone\n",
      "No    289\n",
      "Name: count, dtype: int64\n",
      "\n",
      "Value counts for column 'tolazamide':\n",
      "tolazamide\n",
      "No    289\n",
      "Name: count, dtype: int64\n",
      "\n",
      "Value counts for column 'examide':\n",
      "examide\n",
      "No    289\n",
      "Name: count, dtype: int64\n",
      "\n",
      "Value counts for column 'citoglipton':\n",
      "citoglipton\n",
      "No    289\n",
      "Name: count, dtype: int64\n",
      "\n",
      "Value counts for column 'insulin':\n",
      "insulin\n",
      "No        202\n",
      "Steady     53\n",
      "Down       20\n",
      "Up         14\n",
      "Name: count, dtype: int64\n",
      "\n",
      "Value counts for column 'glyburide-metformin':\n",
      "glyburide-metformin\n",
      "No        288\n",
      "Steady      1\n",
      "Name: count, dtype: int64\n",
      "\n",
      "Value counts for column 'glipizide-metformin':\n",
      "glipizide-metformin\n",
      "No    289\n",
      "Name: count, dtype: int64\n",
      "\n",
      "Value counts for column 'glimepiride-pioglitazone':\n",
      "glimepiride-pioglitazone\n",
      "No    289\n",
      "Name: count, dtype: int64\n",
      "\n",
      "Value counts for column 'metformin-rosiglitazone':\n",
      "metformin-rosiglitazone\n",
      "No    289\n",
      "Name: count, dtype: int64\n",
      "\n",
      "Value counts for column 'metformin-pioglitazone':\n",
      "metformin-pioglitazone\n",
      "No    289\n",
      "Name: count, dtype: int64\n",
      "\n",
      "Value counts for column 'change':\n",
      "change\n",
      "No    205\n",
      "Ch     84\n",
      "Name: count, dtype: int64\n",
      "\n",
      "Value counts for column 'diabetesMed':\n",
      "diabetesMed\n",
      "Yes    171\n",
      "No     118\n",
      "Name: count, dtype: int64\n",
      "\n"
     ]
    }
   ],
   "source": [
    "# columns for which we need value_counts\n",
    "columns_of_interest = ['metformin', 'repaglinide', 'nateglinide', 'chlorpropamide',\n",
    "       'glimepiride', 'acetohexamide', 'glipizide', 'glyburide', 'tolbutamide',\n",
    "       'pioglitazone', 'rosiglitazone', 'acarbose', 'miglitol', 'troglitazone',\n",
    "       'tolazamide', 'examide', 'citoglipton', 'insulin',\n",
    "       'glyburide-metformin', 'glipizide-metformin',\n",
    "       'glimepiride-pioglitazone', 'metformin-rosiglitazone',\n",
    "       'metformin-pioglitazone', 'change', 'diabetesMed'] \n",
    "\n",
    "# Apply value_counts to the these columns\n",
    "value_counts_dict = {col: df[col].value_counts() for col in columns_of_interest}\n",
    "\n",
    "# Print the results\n",
    "for col, counts in value_counts_dict.items():\n",
    "    print(f\"Value counts for column '{col}':\")\n",
    "    print(counts)\n",
    "    print()\n"
   ]
  },
  {
   "cell_type": "code",
   "execution_count": 20,
   "id": "4dd0e830",
   "metadata": {},
   "outputs": [
    {
     "name": "stdout",
     "output_type": "stream",
     "text": [
      "Low-variance columns: ['acetohexamide', 'tolbutamide', 'miglitol', 'troglitazone', 'tolazamide', 'examide', 'citoglipton', 'glipizide-metformin', 'glimepiride-pioglitazone', 'metformin-rosiglitazone', 'metformin-pioglitazone']\n"
     ]
    }
   ],
   "source": [
    "# List of categorical columns\n",
    "categorical_columns = df.select_dtypes(include=['object', 'category']).columns\n",
    "\n",
    "# Threshold for low variance\n",
    "threshold = 0.999999999\n",
    "\n",
    "# Identify low-variance columns\n",
    "low_variance_cols = [\n",
    "    col for col in categorical_columns\n",
    "    if df[col].value_counts(normalize=True).max() > threshold\n",
    "]\n",
    "\n",
    "# Print low-variance columns\n",
    "print(f\"Low-variance columns: {low_variance_cols}\")"
   ]
  },
  {
   "cell_type": "code",
   "execution_count": 21,
   "id": "8a4574b1",
   "metadata": {},
   "outputs": [],
   "source": [
    "# dropping these columns which have very very low variance \n",
    "df = df.drop(['examide', 'citoglipton', 'metformin-rosiglitazone'], axis =1)"
   ]
  },
  {
   "cell_type": "code",
   "execution_count": 22,
   "id": "6e4d2acb",
   "metadata": {},
   "outputs": [],
   "source": [
    "# Summing all the visits together\n",
    "df['service_utilization'] = df['number_outpatient'] + df['number_emergency'] + df['number_inpatient']"
   ]
  },
  {
   "cell_type": "code",
   "execution_count": 23,
   "id": "e9c20128",
   "metadata": {},
   "outputs": [],
   "source": [
    "df.drop(['number_outpatient', 'number_emergency', 'number_inpatient'], axis =1, inplace = True)"
   ]
  },
  {
   "cell_type": "code",
   "execution_count": 24,
   "id": "4c197dea",
   "metadata": {},
   "outputs": [],
   "source": [
    "keys = ['metformin', 'repaglinide', 'nateglinide', 'chlorpropamide', 'glimepiride', 'glipizide', 'glyburide', 'pioglitazone', 'rosiglitazone', 'acarbose', 'miglitol', 'insulin', 'glyburide-metformin', 'tolazamide', 'metformin-pioglitazone', 'glimepiride-pioglitazone', 'glipizide-metformin', 'troglitazone', 'tolbutamide', 'acetohexamide']\n",
    "for col in keys:\n",
    "    colname = str(col) + 'temp'\n",
    "    df[colname] = df[col].apply(lambda x: 0 if (x == 'No' or x == 'Steady') else 1)"
   ]
  },
  {
   "cell_type": "code",
   "execution_count": 25,
   "id": "802f8829",
   "metadata": {},
   "outputs": [
    {
     "data": {
      "text/plain": [
       "numchange\n",
       "0    238\n",
       "1     46\n",
       "2      4\n",
       "3      1\n",
       "Name: count, dtype: int64"
      ]
     },
     "execution_count": 25,
     "metadata": {},
     "output_type": "execute_result"
    }
   ],
   "source": [
    "df['numchange'] = 0\n",
    "for col in keys:\n",
    "    colname = str(col) + 'temp'\n",
    "    df['numchange'] = df['numchange'] + df[colname]\n",
    "    del df[colname]\n",
    "\n",
    "df['numchange'].value_counts()"
   ]
  },
  {
   "cell_type": "markdown",
   "id": "3181f4b2",
   "metadata": {},
   "source": [
    "Few category types can be replaced by the other as they almost mean the same"
   ]
  },
  {
   "cell_type": "code",
   "execution_count": 26,
   "id": "c698989e",
   "metadata": {},
   "outputs": [],
   "source": [
    "df['admission_type_id'] = df['admission_type_id'].replace(2,1)\n",
    "df['admission_type_id'] = df['admission_type_id'].replace(7,1)\n",
    "df['admission_type_id'] = df['admission_type_id'].replace(6,5)\n",
    "df['admission_type_id'] = df['admission_type_id'].replace(8,5)"
   ]
  },
  {
   "cell_type": "code",
   "execution_count": 27,
   "id": "5d34551c",
   "metadata": {},
   "outputs": [],
   "source": [
    "df['discharge_disposition_id'] = df['discharge_disposition_id'].replace(6,1)\n",
    "df['discharge_disposition_id'] = df['discharge_disposition_id'].replace(8,1)\n",
    "df['discharge_disposition_id'] = df['discharge_disposition_id'].replace(9,1)\n",
    "df['discharge_disposition_id'] = df['discharge_disposition_id'].replace(13,1)\n",
    "df['discharge_disposition_id'] = df['discharge_disposition_id'].replace(3,2)\n",
    "df['discharge_disposition_id'] = df['discharge_disposition_id'].replace(4,2)\n",
    "df['discharge_disposition_id'] = df['discharge_disposition_id'].replace(5,2)\n",
    "df['discharge_disposition_id'] = df['discharge_disposition_id'].replace(14,2)\n",
    "df['discharge_disposition_id'] = df['discharge_disposition_id'].replace(22,2)\n",
    "df['discharge_disposition_id'] = df['discharge_disposition_id'].replace(23,2)\n",
    "df['discharge_disposition_id'] = df['discharge_disposition_id'].replace(24,2)\n",
    "df['discharge_disposition_id'] = df['discharge_disposition_id'].replace(12,10)\n",
    "df['discharge_disposition_id'] = df['discharge_disposition_id'].replace(15,10)\n",
    "df['discharge_disposition_id'] = df['discharge_disposition_id'].replace(16,10)\n",
    "df['discharge_disposition_id'] = df['discharge_disposition_id'].replace(17,10)\n",
    "df['discharge_disposition_id'] = df['discharge_disposition_id'].replace(25,18)\n",
    "df['discharge_disposition_id'] = df['discharge_disposition_id'].replace(26,18)"
   ]
  },
  {
   "cell_type": "code",
   "execution_count": 28,
   "id": "5dadddeb",
   "metadata": {},
   "outputs": [],
   "source": [
    "df['admission_source_id'] = df['admission_source_id'].replace(2,1)\n",
    "df['admission_source_id'] = df['admission_source_id'].replace(3,1)\n",
    "df['admission_source_id'] = df['admission_source_id'].replace(5,4)\n",
    "df['admission_source_id'] = df['admission_source_id'].replace(6,4)\n",
    "df['admission_source_id'] = df['admission_source_id'].replace(10,4)\n",
    "df['admission_source_id'] = df['admission_source_id'].replace(22,4)\n",
    "df['admission_source_id'] = df['admission_source_id'].replace(25,4)\n",
    "df['admission_source_id'] = df['admission_source_id'].replace(15,9)\n",
    "df['admission_source_id'] = df['admission_source_id'].replace(17,9)\n",
    "df['admission_source_id'] = df['admission_source_id'].replace(20,9)\n",
    "df['admission_source_id'] = df['admission_source_id'].replace(21,9)\n",
    "df['admission_source_id'] = df['admission_source_id'].replace(13,11)\n",
    "df['admission_source_id'] = df['admission_source_id'].replace(14,11)"
   ]
  },
  {
   "cell_type": "code",
   "execution_count": 29,
   "id": "34eac498",
   "metadata": {},
   "outputs": [
    {
     "name": "stderr",
     "output_type": "stream",
     "text": [
      "/var/folders/c0/452r622j0xn4v2ht050w6y_w0000gn/T/ipykernel_54762/4019121076.py:2: FutureWarning: Downcasting behavior in `replace` is deprecated and will be removed in a future version. To retain the old behavior, explicitly call `result.infer_objects(copy=False)`. To opt-in to the future behavior, set `pd.set_option('future.no_silent_downcasting', True)`\n",
      "  df['change'] = df['change'].replace('No', 0)\n",
      "/var/folders/c0/452r622j0xn4v2ht050w6y_w0000gn/T/ipykernel_54762/4019121076.py:4: FutureWarning: Downcasting behavior in `replace` is deprecated and will be removed in a future version. To retain the old behavior, explicitly call `result.infer_objects(copy=False)`. To opt-in to the future behavior, set `pd.set_option('future.no_silent_downcasting', True)`\n",
      "  df['gender'] = df['gender'].replace('Female', 0)\n",
      "/var/folders/c0/452r622j0xn4v2ht050w6y_w0000gn/T/ipykernel_54762/4019121076.py:6: FutureWarning: Downcasting behavior in `replace` is deprecated and will be removed in a future version. To retain the old behavior, explicitly call `result.infer_objects(copy=False)`. To opt-in to the future behavior, set `pd.set_option('future.no_silent_downcasting', True)`\n",
      "  df['diabetesMed'] = df['diabetesMed'].replace('No', 0)\n",
      "/var/folders/c0/452r622j0xn4v2ht050w6y_w0000gn/T/ipykernel_54762/4019121076.py:12: FutureWarning: Downcasting behavior in `replace` is deprecated and will be removed in a future version. To retain the old behavior, explicitly call `result.infer_objects(copy=False)`. To opt-in to the future behavior, set `pd.set_option('future.no_silent_downcasting', True)`\n",
      "  df[col] = df[col].replace('Down', 1)\n",
      "/var/folders/c0/452r622j0xn4v2ht050w6y_w0000gn/T/ipykernel_54762/4019121076.py:11: FutureWarning: Downcasting behavior in `replace` is deprecated and will be removed in a future version. To retain the old behavior, explicitly call `result.infer_objects(copy=False)`. To opt-in to the future behavior, set `pd.set_option('future.no_silent_downcasting', True)`\n",
      "  df[col] = df[col].replace('Up', 1)\n",
      "/var/folders/c0/452r622j0xn4v2ht050w6y_w0000gn/T/ipykernel_54762/4019121076.py:10: FutureWarning: Downcasting behavior in `replace` is deprecated and will be removed in a future version. To retain the old behavior, explicitly call `result.infer_objects(copy=False)`. To opt-in to the future behavior, set `pd.set_option('future.no_silent_downcasting', True)`\n",
      "  df[col] = df[col].replace('Steady', 1)\n",
      "/var/folders/c0/452r622j0xn4v2ht050w6y_w0000gn/T/ipykernel_54762/4019121076.py:9: FutureWarning: Downcasting behavior in `replace` is deprecated and will be removed in a future version. To retain the old behavior, explicitly call `result.infer_objects(copy=False)`. To opt-in to the future behavior, set `pd.set_option('future.no_silent_downcasting', True)`\n",
      "  df[col] = df[col].replace('No', 0)\n"
     ]
    }
   ],
   "source": [
    "df['change'] = df['change'].replace('Ch', 1)\n",
    "df['change'] = df['change'].replace('No', 0)\n",
    "df['gender'] = df['gender'].replace('Male', 1)\n",
    "df['gender'] = df['gender'].replace('Female', 0)\n",
    "df['diabetesMed'] = df['diabetesMed'].replace('Yes', 1)\n",
    "df['diabetesMed'] = df['diabetesMed'].replace('No', 0)\n",
    "# keys is the same as before\n",
    "for col in keys:\n",
    "    df[col] = df[col].replace('No', 0)\n",
    "    df[col] = df[col].replace('Steady', 1)\n",
    "    df[col] = df[col].replace('Up', 1)\n",
    "    df[col] = df[col].replace('Down', 1)"
   ]
  },
  {
   "cell_type": "code",
   "execution_count": 30,
   "id": "f3c8ed70",
   "metadata": {},
   "outputs": [
    {
     "name": "stderr",
     "output_type": "stream",
     "text": [
      "/var/folders/c0/452r622j0xn4v2ht050w6y_w0000gn/T/ipykernel_54762/3167922647.py:2: FutureWarning: Downcasting behavior in `replace` is deprecated and will be removed in a future version. To retain the old behavior, explicitly call `result.infer_objects(copy=False)`. To opt-in to the future behavior, set `pd.set_option('future.no_silent_downcasting', True)`\n",
      "  df['age'] = df['age'].replace('['+str(10*i)+'-'+str(10*(i+1))+')', i+1)\n"
     ]
    },
    {
     "data": {
      "text/plain": [
       "age\n",
       "6    65\n",
       "8    60\n",
       "7    60\n",
       "9    41\n",
       "5    38\n",
       "4    17\n",
       "2     4\n",
       "3     4\n",
       "Name: count, dtype: int64"
      ]
     },
     "execution_count": 30,
     "metadata": {},
     "output_type": "execute_result"
    }
   ],
   "source": [
    "for i in range(0,10):\n",
    "    df['age'] = df['age'].replace('['+str(10*i)+'-'+str(10*(i+1))+')', i+1)\n",
    "df['age'].value_counts()"
   ]
  },
  {
   "cell_type": "code",
   "execution_count": 31,
   "id": "60d594b3",
   "metadata": {},
   "outputs": [
    {
     "data": {
      "text/plain": [
       "(289, 43)"
      ]
     },
     "execution_count": 31,
     "metadata": {},
     "output_type": "execute_result"
    }
   ],
   "source": [
    "df.shape"
   ]
  },
  {
   "cell_type": "code",
   "execution_count": 32,
   "id": "fdd8fb75",
   "metadata": {},
   "outputs": [
    {
     "data": {
      "text/plain": [
       "Index(['encounter_id', 'patient_nbr', 'race', 'gender', 'age',\n",
       "       'admission_type_id', 'discharge_disposition_id', 'admission_source_id',\n",
       "       'time_in_hospital', 'num_lab_procedures', 'num_procedures',\n",
       "       'num_medications', 'diag_1', 'diag_2', 'diag_3', 'number_diagnoses',\n",
       "       'max_glu_serum', 'A1Cresult', 'metformin', 'repaglinide', 'nateglinide',\n",
       "       'chlorpropamide', 'glimepiride', 'acetohexamide', 'glipizide',\n",
       "       'glyburide', 'tolbutamide', 'pioglitazone', 'rosiglitazone', 'acarbose',\n",
       "       'miglitol', 'troglitazone', 'tolazamide', 'insulin',\n",
       "       'glyburide-metformin', 'glipizide-metformin',\n",
       "       'glimepiride-pioglitazone', 'metformin-pioglitazone', 'change',\n",
       "       'diabetesMed', 'readmitted', 'service_utilization', 'numchange'],\n",
       "      dtype='object')"
      ]
     },
     "execution_count": 32,
     "metadata": {},
     "output_type": "execute_result"
    }
   ],
   "source": [
    "df.columns"
   ]
  },
  {
   "cell_type": "code",
   "execution_count": 33,
   "id": "bf79e41e",
   "metadata": {},
   "outputs": [
    {
     "data": {
      "text/plain": [
       "162        80499960\n",
       "460        76959585\n",
       "593       114960726\n",
       "696        87847776\n",
       "771        60354486\n",
       "            ...    \n",
       "100386    103832127\n",
       "100493    101755908\n",
       "100578     90285327\n",
       "101029    104106645\n",
       "101088    126428594\n",
       "Name: patient_nbr, Length: 289, dtype: int64"
      ]
     },
     "execution_count": 33,
     "metadata": {},
     "output_type": "execute_result"
    }
   ],
   "source": [
    "df['patient_nbr']"
   ]
  },
  {
   "cell_type": "code",
   "execution_count": 34,
   "id": "6af0d188",
   "metadata": {},
   "outputs": [
    {
     "data": {
      "text/plain": [
       "readmitted\n",
       ">30    138\n",
       "NO     116\n",
       "<30     35\n",
       "Name: count, dtype: int64"
      ]
     },
     "execution_count": 34,
     "metadata": {},
     "output_type": "execute_result"
    }
   ],
   "source": [
    "df['readmitted'].value_counts()"
   ]
  },
  {
   "cell_type": "code",
   "execution_count": 35,
   "id": "9623a351",
   "metadata": {},
   "outputs": [
    {
     "data": {
      "text/plain": [
       "encounter_id                 int64\n",
       "patient_nbr                  int64\n",
       "race                        object\n",
       "gender                       int64\n",
       "age                          int64\n",
       "admission_type_id            int64\n",
       "discharge_disposition_id     int64\n",
       "admission_source_id          int64\n",
       "time_in_hospital             int64\n",
       "num_lab_procedures           int64\n",
       "num_procedures               int64\n",
       "num_medications              int64\n",
       "diag_1                      object\n",
       "diag_2                      object\n",
       "diag_3                      object\n",
       "number_diagnoses             int64\n",
       "max_glu_serum               object\n",
       "A1Cresult                   object\n",
       "metformin                    int64\n",
       "repaglinide                  int64\n",
       "nateglinide                  int64\n",
       "chlorpropamide               int64\n",
       "glimepiride                  int64\n",
       "acetohexamide                int64\n",
       "glipizide                    int64\n",
       "glyburide                    int64\n",
       "tolbutamide                  int64\n",
       "pioglitazone                 int64\n",
       "rosiglitazone                int64\n",
       "acarbose                     int64\n",
       "miglitol                     int64\n",
       "troglitazone                 int64\n",
       "tolazamide                   int64\n",
       "insulin                      int64\n",
       "glyburide-metformin          int64\n",
       "glipizide-metformin          int64\n",
       "glimepiride-pioglitazone     int64\n",
       "metformin-pioglitazone       int64\n",
       "change                       int64\n",
       "diabetesMed                  int64\n",
       "readmitted                  object\n",
       "service_utilization          int64\n",
       "numchange                    int64\n",
       "dtype: object"
      ]
     },
     "execution_count": 35,
     "metadata": {},
     "output_type": "execute_result"
    }
   ],
   "source": [
    "df.dtypes"
   ]
  },
  {
   "cell_type": "code",
   "execution_count": 36,
   "id": "0e877a02",
   "metadata": {},
   "outputs": [
    {
     "data": {
      "text/plain": [
       "array(['332', '250.02', '276', '820', '296', '428', '250.03', '295',\n",
       "       '682', '715', '722', '434', '410', '786', '444', '414', '427',\n",
       "       '486', '376', '537', '436', '435', '515', '453', '250.13', '584',\n",
       "       '714', '730', '491', '250.81', '250.6', '250.7', '562', '590',\n",
       "       '112', '402', '577', '558', '599', '785', '493', '298', '451',\n",
       "       '807', '437', '403', '401', '564', '250.12', '535', '596', '969',\n",
       "       '578', '433', '340', '280', '253', '38', '574', '250.83', '996',\n",
       "       '250.8', '780', '8', '560', '733', '569', '53', '531', '571',\n",
       "       '458', '250.22', '443', '250.11', '250.82', 'V58', '965', '784',\n",
       "       '707', '162', '518', '79', 'V57', '250.1', '681', '188', '415',\n",
       "       '250', '507', '411'], dtype=object)"
      ]
     },
     "execution_count": 36,
     "metadata": {},
     "output_type": "execute_result"
    }
   ],
   "source": [
    "df['diag_1'].unique()"
   ]
  },
  {
   "cell_type": "markdown",
   "id": "f15a4d44",
   "metadata": {},
   "source": [
    "https://en.wikipedia.org/wiki/List_of_ICD-9_codes\n",
    "\n",
    "Find the downloaded excel for the 22 categories - level 2 splits"
   ]
  },
  {
   "cell_type": "code",
   "execution_count": 37,
   "id": "b8379a1e",
   "metadata": {},
   "outputs": [],
   "source": [
    "df['level1_diag1'] = df['diag_1']\n",
    "df['level2_diag1'] = df['diag_1']\n",
    "df['level1_diag2'] = df['diag_2']\n",
    "df['level2_diag2'] = df['diag_2']\n",
    "df['level1_diag3'] = df['diag_3']\n",
    "df['level2_diag3'] = df['diag_3']"
   ]
  },
  {
   "cell_type": "code",
   "execution_count": 38,
   "id": "fdb5602c",
   "metadata": {},
   "outputs": [],
   "source": [
    "df.loc[df['diag_1'].str.contains('V'), ['level1_diag1', 'level2_diag1']] = 0\n",
    "df.loc[df['diag_1'].str.contains('E'), ['level1_diag1', 'level2_diag1']] = 0\n",
    "df.loc[df['diag_2'].str.contains('V'), ['level1_diag2', 'level2_diag2']] = 0\n",
    "df.loc[df['diag_2'].str.contains('E'), ['level1_diag2', 'level2_diag2']] = 0\n",
    "df.loc[df['diag_3'].str.contains('V'), ['level1_diag3', 'level2_diag3']] = 0\n",
    "df.loc[df['diag_3'].str.contains('E'), ['level1_diag3', 'level2_diag3']] = 0"
   ]
  },
  {
   "cell_type": "code",
   "execution_count": 39,
   "id": "91e6ce1a",
   "metadata": {},
   "outputs": [],
   "source": [
    "df['level1_diag1'] = df['level1_diag1'].astype(float)\n",
    "df['level2_diag1'] = df['level2_diag1'].astype(float)\n",
    "df['level1_diag2'] = df['level1_diag2'].astype(float)\n",
    "df['level2_diag2'] = df['level2_diag2'].astype(float)\n",
    "df['level1_diag3'] = df['level1_diag3'].astype(float)\n",
    "df['level2_diag3'] = df['level2_diag3'].astype(float)"
   ]
  },
  {
   "cell_type": "code",
   "execution_count": 40,
   "id": "7bf9b311",
   "metadata": {},
   "outputs": [],
   "source": [
    "for index, row in df.iterrows():\n",
    "    if (row['level1_diag1'] >= 390 and row['level1_diag1'] < 460) or (np.floor(row['level1_diag1']) == 785):\n",
    "        df.loc[index, 'level1_diag1'] = 1\n",
    "    elif (row['level1_diag1'] >= 460 and row['level1_diag1'] < 520) or (np.floor(row['level1_diag1']) == 786):\n",
    "        df.loc[index, 'level1_diag1'] = 2\n",
    "    elif (row['level1_diag1'] >= 520 and row['level1_diag1'] < 580) or (np.floor(row['level1_diag1']) == 787):\n",
    "        df.loc[index, 'level1_diag1'] = 3\n",
    "    elif (np.floor(row['level1_diag1']) == 250):\n",
    "        df.loc[index, 'level1_diag1'] = 4\n",
    "    elif (row['level1_diag1'] >= 800 and row['level1_diag1'] < 1000):\n",
    "        df.loc[index, 'level1_diag1'] = 5\n",
    "    elif (row['level1_diag1'] >= 710 and row['level1_diag1'] < 740):\n",
    "        df.loc[index, 'level1_diag1'] = 6\n",
    "    elif (row['level1_diag1'] >= 580 and row['level1_diag1'] < 630) or (np.floor(row['level1_diag1']) == 788):\n",
    "        df.loc[index, 'level1_diag1'] = 7\n",
    "    elif (row['level1_diag1'] >= 140 and row['level1_diag1'] < 240):\n",
    "        df.loc[index, 'level1_diag1'] = 8\n",
    "    else:\n",
    "        df.loc[index, 'level1_diag1'] = 0\n",
    "\n",
    "    if (row['level1_diag2'] >= 390 and row['level1_diag2'] < 460) or (np.floor(row['level1_diag2']) == 785):\n",
    "        df.loc[index, 'level1_diag2'] = 1\n",
    "    elif (row['level1_diag2'] >= 460 and row['level1_diag2'] < 520) or (np.floor(row['level1_diag2']) == 786):\n",
    "        df.loc[index, 'level1_diag2'] = 2\n",
    "    elif (row['level1_diag2'] >= 520 and row['level1_diag2'] < 580) or (np.floor(row['level1_diag2']) == 787):\n",
    "        df.loc[index, 'level1_diag2'] = 3\n",
    "    elif (np.floor(row['level1_diag2']) == 250):\n",
    "        df.loc[index, 'level1_diag2'] = 4\n",
    "    elif (row['level1_diag2'] >= 800 and row['level1_diag2'] < 1000):\n",
    "        df.loc[index, 'level1_diag2'] = 5\n",
    "    elif (row['level1_diag2'] >= 710 and row['level1_diag2'] < 740):\n",
    "        df.loc[index, 'level1_diag2'] = 6\n",
    "    elif (row['level1_diag2'] >= 580 and row['level1_diag2'] < 630) or (np.floor(row['level1_diag2']) == 788):\n",
    "        df.loc[index, 'level1_diag2'] = 7\n",
    "    elif (row['level1_diag2'] >= 140 and row['level1_diag2'] < 240):\n",
    "        df.loc[index, 'level1_diag2'] = 8\n",
    "    else:\n",
    "        df.loc[index, 'level1_diag2'] = 0\n",
    "\n",
    "    if (row['level1_diag3'] >= 390 and row['level1_diag3'] < 460) or (np.floor(row['level1_diag3']) == 785):\n",
    "        df.loc[index, 'level1_diag3'] = 1\n",
    "    elif (row['level1_diag3'] >= 460 and row['level1_diag3'] < 520) or (np.floor(row['level1_diag3']) == 786):\n",
    "        df.loc[index, 'level1_diag3'] = 2\n",
    "    elif (row['level1_diag3'] >= 520 and row['level1_diag3'] < 580) or (np.floor(row['level1_diag3']) == 787):\n",
    "        df.loc[index, 'level1_diag3'] = 3\n",
    "    elif (np.floor(row['level1_diag3']) == 250):\n",
    "        df.loc[index, 'level1_diag3'] = 4\n",
    "    elif (row['level1_diag3'] >= 800 and row['level1_diag3'] < 1000):\n",
    "        df.loc[index, 'level1_diag3'] = 5\n",
    "    elif (row['level1_diag3'] >= 710 and row['level1_diag3'] < 740):\n",
    "        df.loc[index, 'level1_diag3'] = 6\n",
    "    elif (row['level1_diag3'] >= 580 and row['level1_diag3'] < 630) or (np.floor(row['level1_diag3']) == 788):\n",
    "        df.loc[index, 'level1_diag3'] = 7\n",
    "    elif (row['level1_diag3'] >= 140 and row['level1_diag3'] < 240):\n",
    "        df.loc[index, 'level1_diag3'] = 8\n",
    "    else:\n",
    "        df.loc[index, 'level1_diag3'] = 0"
   ]
  },
  {
   "cell_type": "code",
   "execution_count": 41,
   "id": "cd74f337",
   "metadata": {},
   "outputs": [],
   "source": [
    "for index, row in df.iterrows():\n",
    "    if (row['level2_diag1'] >= 390 and row['level2_diag1'] < 399):\n",
    "        df.loc[index, 'level2_diag1'] = 1\n",
    "    elif (row['level2_diag1'] >= 401 and row['level2_diag1'] < 415):\n",
    "        df.loc[index, 'level2_diag1'] = 2\n",
    "    elif (row['level2_diag1'] >= 415 and row['level2_diag1'] < 460):\n",
    "        df.loc[index, 'level2_diag1'] = 3\n",
    "    elif (np.floor(row['level2_diag1']) == 785):\n",
    "        df.loc[index, 'level2_diag1'] = 4\n",
    "    elif (row['level2_diag1'] >= 460 and row['level2_diag1'] < 489):\n",
    "        df.loc[index, 'level2_diag1'] = 5\n",
    "    elif (row['level2_diag1'] >= 490 and row['level2_diag1'] < 497):\n",
    "        df.loc[index, 'level2_diag1'] = 6\n",
    "    elif (row['level2_diag1'] >= 500 and row['level2_diag1'] < 520):\n",
    "        df.loc[index, 'level2_diag1'] = 7\n",
    "    elif (np.floor(row['level2_diag1']) == 786):\n",
    "        df.loc[index, 'level2_diag1'] = 8\n",
    "    elif (row['level2_diag1'] >= 520 and row['level2_diag1'] < 530):\n",
    "        df.loc[index, 'level2_diag1'] = 9\n",
    "    elif (row['level2_diag1'] >= 530 and row['level2_diag1'] < 544):\n",
    "        df.loc[index, 'level2_diag1'] = 10\n",
    "    elif (row['level2_diag1'] >= 550 and row['level2_diag1'] < 554):\n",
    "        df.loc[index, 'level2_diag1'] = 11\n",
    "    elif (row['level2_diag1'] >= 555 and row['level2_diag1'] < 580):\n",
    "        df.loc[index, 'level2_diag1'] = 12\n",
    "    elif (np.floor(row['level2_diag1']) == 787):\n",
    "        df.loc[index, 'level2_diag1'] = 13\n",
    "    elif (np.floor(row['level2_diag1']) == 250):\n",
    "        df.loc[index, 'level2_diag1'] = 14\n",
    "    elif (row['level2_diag1'] >= 800 and row['level2_diag1'] < 1000):\n",
    "        df.loc[index, 'level2_diag1'] = 15\n",
    "    elif (row['level2_diag1'] >= 710 and row['level2_diag1'] < 740):\n",
    "        df.loc[index, 'level2_diag1'] = 16\n",
    "    elif (row['level2_diag1'] >= 580 and row['level2_diag1'] < 630):\n",
    "        df.loc[index, 'level2_diag1'] = 17\n",
    "    elif (np.floor(row['level2_diag1']) == 788):\n",
    "        df.loc[index, 'level2_diag1'] = 18\n",
    "    elif (row['level2_diag1'] >= 140 and row['level2_diag1'] < 240):\n",
    "        df.loc[index, 'level2_diag1'] = 19\n",
    "    elif row['level2_diag1'] >= 240 and row['level2_diag1'] < 280 and (np.floor(row['level2_diag1']) != 250):\n",
    "        df.loc[index, 'level2_diag1'] = 20\n",
    "    elif (row['level2_diag1'] >= 680 and row['level2_diag1'] < 710) or (np.floor(row['level2_diag1']) == 782):\n",
    "        df.loc[index, 'level2_diag1'] = 21\n",
    "    elif (row['level2_diag1'] >= 290 and row['level2_diag1'] < 320):\n",
    "        df.loc[index, 'level2_diag1'] = 22\n",
    "    else:\n",
    "        df.loc[index, 'level2_diag1'] = 0\n",
    "\n",
    "    if (row['level2_diag2'] >= 390 and row['level2_diag2'] < 399):\n",
    "        df.loc[index, 'level2_diag2'] = 1\n",
    "    elif (row['level2_diag2'] >= 401 and row['level2_diag2'] < 415):\n",
    "        df.loc[index, 'level2_diag2'] = 2\n",
    "    elif (row['level2_diag2'] >= 415 and row['level2_diag2'] < 460):\n",
    "        df.loc[index, 'level2_diag2'] = 3\n",
    "    elif (np.floor(row['level2_diag2']) == 785):\n",
    "        df.loc[index, 'level2_diag2'] = 4\n",
    "    elif (row['level2_diag2'] >= 460 and row['level2_diag2'] < 489):\n",
    "        df.loc[index, 'level2_diag2'] = 5\n",
    "    elif (row['level2_diag2'] >= 490 and row['level2_diag2'] < 497):\n",
    "        df.loc[index, 'level2_diag2'] = 6\n",
    "    elif (row['level2_diag2'] >= 500 and row['level2_diag2'] < 520):\n",
    "        df.loc[index, 'level2_diag2'] = 7\n",
    "    elif (np.floor(row['level2_diag2']) == 786):\n",
    "        df.loc[index, 'level2_diag2'] = 8\n",
    "    elif (row['level2_diag2'] >= 520 and row['level2_diag2'] < 530):\n",
    "        df.loc[index, 'level2_diag2'] = 9\n",
    "    elif (row['level2_diag2'] >= 530 and row['level2_diag2'] < 544):\n",
    "        df.loc[index, 'level2_diag2'] = 10\n",
    "    elif (row['level2_diag2'] >= 550 and row['level2_diag2'] < 554):\n",
    "        df.loc[index, 'level2_diag2'] = 11\n",
    "    elif (row['level2_diag2'] >= 555 and row['level2_diag2'] < 580):\n",
    "        df.loc[index, 'level2_diag2'] = 12\n",
    "    elif (np.floor(row['level2_diag2']) == 787):\n",
    "        df.loc[index, 'level2_diag2'] = 13\n",
    "    elif (np.floor(row['level2_diag2']) == 250):\n",
    "        df.loc[index, 'level2_diag2'] = 14\n",
    "    elif (row['level2_diag2'] >= 800 and row['level2_diag2'] < 1000):\n",
    "        df.loc[index, 'level2_diag2'] = 15\n",
    "    elif (row['level2_diag2'] >= 710 and row['level2_diag2'] < 740):\n",
    "        df.loc[index, 'level2_diag2'] = 16\n",
    "    elif (row['level2_diag2'] >= 580 and row['level2_diag2'] < 630):\n",
    "        df.loc[index, 'level2_diag2'] = 17\n",
    "    elif (np.floor(row['level2_diag2']) == 788):\n",
    "        df.loc[index, 'level2_diag2'] = 18\n",
    "    elif (row['level2_diag2'] >= 140 and row['level2_diag2'] < 240):\n",
    "        df.loc[index, 'level2_diag2'] = 19\n",
    "    elif row['level2_diag2'] >= 240 and row['level2_diag2'] < 280 and (np.floor(row['level2_diag2']) != 250):\n",
    "        df.loc[index, 'level2_diag2'] = 20\n",
    "    elif (row['level2_diag2'] >= 680 and row['level2_diag2'] < 710) or (np.floor(row['level2_diag2']) == 782):\n",
    "        df.loc[index, 'level2_diag2'] = 21\n",
    "    elif (row['level2_diag2'] >= 290 and row['level2_diag2'] < 320):\n",
    "        df.loc[index, 'level2_diag2'] = 22\n",
    "    else:\n",
    "        df.loc[index, 'level2_diag2'] = 0\n",
    "\n",
    "\n",
    "    if (row['level2_diag3'] >= 390 and row['level2_diag3'] < 399):\n",
    "        df.loc[index, 'level2_diag3'] = 1\n",
    "    elif (row['level2_diag3'] >= 401 and row['level2_diag3'] < 415):\n",
    "        df.loc[index, 'level2_diag3'] = 2\n",
    "    elif (row['level2_diag3'] >= 415 and row['level2_diag3'] < 460):\n",
    "        df.loc[index, 'level2_diag3'] = 3\n",
    "    elif (np.floor(row['level2_diag3']) == 785):\n",
    "        df.loc[index, 'level2_diag3'] = 4\n",
    "    elif (row['level2_diag3'] >= 460 and row['level2_diag3'] < 489):\n",
    "        df.loc[index, 'level2_diag3'] = 5\n",
    "    elif (row['level2_diag3'] >= 490 and row['level2_diag3'] < 497):\n",
    "        df.loc[index, 'level2_diag3'] = 6\n",
    "    elif (row['level2_diag3'] >= 500 and row['level2_diag3'] < 520):\n",
    "        df.loc[index, 'level2_diag3'] = 7\n",
    "    elif (np.floor(row['level2_diag3']) == 786):\n",
    "        df.loc[index, 'level2_diag3'] = 8\n",
    "    elif (row['level2_diag3'] >= 520 and row['level2_diag3'] < 530):\n",
    "        df.loc[index, 'level2_diag3'] = 9\n",
    "    elif (row['level2_diag3'] >= 530 and row['level2_diag3'] < 544):\n",
    "        df.loc[index, 'level2_diag3'] = 10\n",
    "    elif (row['level2_diag3'] >= 550 and row['level2_diag3'] < 554):\n",
    "        df.loc[index, 'level2_diag3'] = 11\n",
    "    elif (row['level2_diag3'] >= 555 and row['level2_diag3'] < 580):\n",
    "        df.loc[index, 'level2_diag3'] = 12\n",
    "    elif (np.floor(row['level2_diag3']) == 787):\n",
    "        df.loc[index, 'level2_diag3'] = 13\n",
    "    elif (np.floor(row['level2_diag3']) == 250):\n",
    "        df.loc[index, 'level2_diag3'] = 14\n",
    "    elif (row['level2_diag3'] >= 800 and row['level2_diag3'] < 1000):\n",
    "        df.loc[index, 'level2_diag3'] = 15\n",
    "    elif (row['level2_diag3'] >= 710 and row['level2_diag3'] < 740):\n",
    "        df.loc[index, 'level2_diag3'] = 16\n",
    "    elif (row['level2_diag3'] >= 580 and row['level2_diag3'] < 630):\n",
    "        df.loc[index, 'level2_diag3'] = 17\n",
    "    elif (np.floor(row['level2_diag3']) == 788):\n",
    "        df.loc[index, 'level2_diag3'] = 18\n",
    "    elif (row['level2_diag3'] >= 140 and row['level2_diag3'] < 240):\n",
    "        df.loc[index, 'level2_diag3'] = 19\n",
    "    elif row['level2_diag3'] >= 240 and row['level2_diag3'] < 280 and (np.floor(row['level2_diag3']) != 250):\n",
    "        df.loc[index, 'level2_diag3'] = 20\n",
    "    elif (row['level2_diag3'] >= 680 and row['level2_diag3'] < 710) or (np.floor(row['level2_diag3']) == 782):\n",
    "        df.loc[index, 'level2_diag3'] = 21\n",
    "    elif (row['level2_diag3'] >= 290 and row['level2_diag3'] < 320):\n",
    "        df.loc[index, 'level2_diag3'] = 22\n",
    "    else:\n",
    "        df.loc[index, 'level2_diag3'] = 0"
   ]
  },
  {
   "cell_type": "code",
   "execution_count": 42,
   "id": "ce9e7dcc",
   "metadata": {},
   "outputs": [
    {
     "data": {
      "text/plain": [
       "encounter_id                  int64\n",
       "patient_nbr                   int64\n",
       "race                         object\n",
       "gender                        int64\n",
       "age                           int64\n",
       "admission_type_id             int64\n",
       "discharge_disposition_id      int64\n",
       "admission_source_id           int64\n",
       "time_in_hospital              int64\n",
       "num_lab_procedures            int64\n",
       "num_procedures                int64\n",
       "num_medications               int64\n",
       "diag_1                       object\n",
       "diag_2                       object\n",
       "diag_3                       object\n",
       "number_diagnoses              int64\n",
       "max_glu_serum                object\n",
       "A1Cresult                    object\n",
       "metformin                     int64\n",
       "repaglinide                   int64\n",
       "nateglinide                   int64\n",
       "chlorpropamide                int64\n",
       "glimepiride                   int64\n",
       "acetohexamide                 int64\n",
       "glipizide                     int64\n",
       "glyburide                     int64\n",
       "tolbutamide                   int64\n",
       "pioglitazone                  int64\n",
       "rosiglitazone                 int64\n",
       "acarbose                      int64\n",
       "miglitol                      int64\n",
       "troglitazone                  int64\n",
       "tolazamide                    int64\n",
       "insulin                       int64\n",
       "glyburide-metformin           int64\n",
       "glipizide-metformin           int64\n",
       "glimepiride-pioglitazone      int64\n",
       "metformin-pioglitazone        int64\n",
       "change                        int64\n",
       "diabetesMed                   int64\n",
       "readmitted                   object\n",
       "service_utilization           int64\n",
       "numchange                     int64\n",
       "level1_diag1                float64\n",
       "level2_diag1                float64\n",
       "level1_diag2                float64\n",
       "level2_diag2                float64\n",
       "level1_diag3                float64\n",
       "level2_diag3                float64\n",
       "dtype: object"
      ]
     },
     "execution_count": 42,
     "metadata": {},
     "output_type": "execute_result"
    }
   ],
   "source": [
    "df.dtypes"
   ]
  },
  {
   "cell_type": "code",
   "execution_count": 43,
   "id": "60f44876",
   "metadata": {},
   "outputs": [],
   "source": [
    "df.drop(['race', 'gender', 'diag_1', 'diag_2', 'diag_3'], axis=1, inplace = True)"
   ]
  },
  {
   "cell_type": "code",
   "execution_count": 44,
   "id": "009f4f39",
   "metadata": {},
   "outputs": [
    {
     "name": "stderr",
     "output_type": "stream",
     "text": [
      "/var/folders/c0/452r622j0xn4v2ht050w6y_w0000gn/T/ipykernel_54762/1993807872.py:4: FutureWarning: Downcasting behavior in `replace` is deprecated and will be removed in a future version. To retain the old behavior, explicitly call `result.infer_objects(copy=False)`. To opt-in to the future behavior, set `pd.set_option('future.no_silent_downcasting', True)`\n",
      "  df['readmitted'] = df['readmitted'].replace('NO', 0)\n"
     ]
    }
   ],
   "source": [
    "# just for finding correlation\n",
    "df['readmitted'] = df['readmitted'].replace('>30', 0)\n",
    "df['readmitted'] = df['readmitted'].replace('<30', 1)\n",
    "df['readmitted'] = df['readmitted'].replace('NO', 0)"
   ]
  },
  {
   "cell_type": "markdown",
   "id": "d1eee3f5",
   "metadata": {},
   "source": [
    "### Exploratory Data analysis"
   ]
  },
  {
   "cell_type": "code",
   "execution_count": 45,
   "id": "4ab3d892",
   "metadata": {},
   "outputs": [
    {
     "ename": "ValueError",
     "evalue": "could not convert string to float: '>200'",
     "output_type": "error",
     "traceback": [
      "\u001b[0;31m---------------------------------------------------------------------------\u001b[0m",
      "\u001b[0;31mValueError\u001b[0m                                Traceback (most recent call last)",
      "Cell \u001b[0;32mIn[45], line 1\u001b[0m\n\u001b[0;32m----> 1\u001b[0m corr \u001b[38;5;241m=\u001b[39m \u001b[43mdf\u001b[49m\u001b[38;5;241;43m.\u001b[39;49m\u001b[43mcorr\u001b[49m\u001b[43m(\u001b[49m\u001b[43m)\u001b[49m\u001b[38;5;241m.\u001b[39mround(\u001b[38;5;241m2\u001b[39m)\n\u001b[1;32m      2\u001b[0m plt\u001b[38;5;241m.\u001b[39mfigure(figsize \u001b[38;5;241m=\u001b[39m (\u001b[38;5;241m30\u001b[39m,\u001b[38;5;241m20\u001b[39m))\n\u001b[1;32m      3\u001b[0m sns\u001b[38;5;241m.\u001b[39mheatmap(corr, annot \u001b[38;5;241m=\u001b[39m \u001b[38;5;28;01mTrue\u001b[39;00m, cmap \u001b[38;5;241m=\u001b[39m \u001b[38;5;124m'\u001b[39m\u001b[38;5;124mReds\u001b[39m\u001b[38;5;124m'\u001b[39m)\n",
      "File \u001b[0;32m/Library/Frameworks/Python.framework/Versions/3.11/lib/python3.11/site-packages/pandas/core/frame.py:11036\u001b[0m, in \u001b[0;36mDataFrame.corr\u001b[0;34m(self, method, min_periods, numeric_only)\u001b[0m\n\u001b[1;32m  11034\u001b[0m cols \u001b[38;5;241m=\u001b[39m data\u001b[38;5;241m.\u001b[39mcolumns\n\u001b[1;32m  11035\u001b[0m idx \u001b[38;5;241m=\u001b[39m cols\u001b[38;5;241m.\u001b[39mcopy()\n\u001b[0;32m> 11036\u001b[0m mat \u001b[38;5;241m=\u001b[39m \u001b[43mdata\u001b[49m\u001b[38;5;241;43m.\u001b[39;49m\u001b[43mto_numpy\u001b[49m\u001b[43m(\u001b[49m\u001b[43mdtype\u001b[49m\u001b[38;5;241;43m=\u001b[39;49m\u001b[38;5;28;43mfloat\u001b[39;49m\u001b[43m,\u001b[49m\u001b[43m \u001b[49m\u001b[43mna_value\u001b[49m\u001b[38;5;241;43m=\u001b[39;49m\u001b[43mnp\u001b[49m\u001b[38;5;241;43m.\u001b[39;49m\u001b[43mnan\u001b[49m\u001b[43m,\u001b[49m\u001b[43m \u001b[49m\u001b[43mcopy\u001b[49m\u001b[38;5;241;43m=\u001b[39;49m\u001b[38;5;28;43;01mFalse\u001b[39;49;00m\u001b[43m)\u001b[49m\n\u001b[1;32m  11038\u001b[0m \u001b[38;5;28;01mif\u001b[39;00m method \u001b[38;5;241m==\u001b[39m \u001b[38;5;124m\"\u001b[39m\u001b[38;5;124mpearson\u001b[39m\u001b[38;5;124m\"\u001b[39m:\n\u001b[1;32m  11039\u001b[0m     correl \u001b[38;5;241m=\u001b[39m libalgos\u001b[38;5;241m.\u001b[39mnancorr(mat, minp\u001b[38;5;241m=\u001b[39mmin_periods)\n",
      "File \u001b[0;32m/Library/Frameworks/Python.framework/Versions/3.11/lib/python3.11/site-packages/pandas/core/frame.py:1981\u001b[0m, in \u001b[0;36mDataFrame.to_numpy\u001b[0;34m(self, dtype, copy, na_value)\u001b[0m\n\u001b[1;32m   1979\u001b[0m \u001b[38;5;28;01mif\u001b[39;00m dtype \u001b[38;5;129;01mis\u001b[39;00m \u001b[38;5;129;01mnot\u001b[39;00m \u001b[38;5;28;01mNone\u001b[39;00m:\n\u001b[1;32m   1980\u001b[0m     dtype \u001b[38;5;241m=\u001b[39m np\u001b[38;5;241m.\u001b[39mdtype(dtype)\n\u001b[0;32m-> 1981\u001b[0m result \u001b[38;5;241m=\u001b[39m \u001b[38;5;28;43mself\u001b[39;49m\u001b[38;5;241;43m.\u001b[39;49m\u001b[43m_mgr\u001b[49m\u001b[38;5;241;43m.\u001b[39;49m\u001b[43mas_array\u001b[49m\u001b[43m(\u001b[49m\u001b[43mdtype\u001b[49m\u001b[38;5;241;43m=\u001b[39;49m\u001b[43mdtype\u001b[49m\u001b[43m,\u001b[49m\u001b[43m \u001b[49m\u001b[43mcopy\u001b[49m\u001b[38;5;241;43m=\u001b[39;49m\u001b[43mcopy\u001b[49m\u001b[43m,\u001b[49m\u001b[43m \u001b[49m\u001b[43mna_value\u001b[49m\u001b[38;5;241;43m=\u001b[39;49m\u001b[43mna_value\u001b[49m\u001b[43m)\u001b[49m\n\u001b[1;32m   1982\u001b[0m \u001b[38;5;28;01mif\u001b[39;00m result\u001b[38;5;241m.\u001b[39mdtype \u001b[38;5;129;01mis\u001b[39;00m \u001b[38;5;129;01mnot\u001b[39;00m dtype:\n\u001b[1;32m   1983\u001b[0m     result \u001b[38;5;241m=\u001b[39m np\u001b[38;5;241m.\u001b[39marray(result, dtype\u001b[38;5;241m=\u001b[39mdtype, copy\u001b[38;5;241m=\u001b[39m\u001b[38;5;28;01mFalse\u001b[39;00m)\n",
      "File \u001b[0;32m/Library/Frameworks/Python.framework/Versions/3.11/lib/python3.11/site-packages/pandas/core/internals/managers.py:1692\u001b[0m, in \u001b[0;36mBlockManager.as_array\u001b[0;34m(self, dtype, copy, na_value)\u001b[0m\n\u001b[1;32m   1690\u001b[0m         arr\u001b[38;5;241m.\u001b[39mflags\u001b[38;5;241m.\u001b[39mwriteable \u001b[38;5;241m=\u001b[39m \u001b[38;5;28;01mFalse\u001b[39;00m\n\u001b[1;32m   1691\u001b[0m \u001b[38;5;28;01melse\u001b[39;00m:\n\u001b[0;32m-> 1692\u001b[0m     arr \u001b[38;5;241m=\u001b[39m \u001b[38;5;28;43mself\u001b[39;49m\u001b[38;5;241;43m.\u001b[39;49m\u001b[43m_interleave\u001b[49m\u001b[43m(\u001b[49m\u001b[43mdtype\u001b[49m\u001b[38;5;241;43m=\u001b[39;49m\u001b[43mdtype\u001b[49m\u001b[43m,\u001b[49m\u001b[43m \u001b[49m\u001b[43mna_value\u001b[49m\u001b[38;5;241;43m=\u001b[39;49m\u001b[43mna_value\u001b[49m\u001b[43m)\u001b[49m\n\u001b[1;32m   1693\u001b[0m     \u001b[38;5;66;03m# The underlying data was copied within _interleave, so no need\u001b[39;00m\n\u001b[1;32m   1694\u001b[0m     \u001b[38;5;66;03m# to further copy if copy=True or setting na_value\u001b[39;00m\n\u001b[1;32m   1696\u001b[0m \u001b[38;5;28;01mif\u001b[39;00m na_value \u001b[38;5;129;01mis\u001b[39;00m lib\u001b[38;5;241m.\u001b[39mno_default:\n",
      "File \u001b[0;32m/Library/Frameworks/Python.framework/Versions/3.11/lib/python3.11/site-packages/pandas/core/internals/managers.py:1751\u001b[0m, in \u001b[0;36mBlockManager._interleave\u001b[0;34m(self, dtype, na_value)\u001b[0m\n\u001b[1;32m   1749\u001b[0m     \u001b[38;5;28;01melse\u001b[39;00m:\n\u001b[1;32m   1750\u001b[0m         arr \u001b[38;5;241m=\u001b[39m blk\u001b[38;5;241m.\u001b[39mget_values(dtype)\n\u001b[0;32m-> 1751\u001b[0m     \u001b[43mresult\u001b[49m\u001b[43m[\u001b[49m\u001b[43mrl\u001b[49m\u001b[38;5;241;43m.\u001b[39;49m\u001b[43mindexer\u001b[49m\u001b[43m]\u001b[49m \u001b[38;5;241m=\u001b[39m arr\n\u001b[1;32m   1752\u001b[0m     itemmask[rl\u001b[38;5;241m.\u001b[39mindexer] \u001b[38;5;241m=\u001b[39m \u001b[38;5;241m1\u001b[39m\n\u001b[1;32m   1754\u001b[0m \u001b[38;5;28;01mif\u001b[39;00m \u001b[38;5;129;01mnot\u001b[39;00m itemmask\u001b[38;5;241m.\u001b[39mall():\n",
      "\u001b[0;31mValueError\u001b[0m: could not convert string to float: '>200'"
     ]
    }
   ],
   "source": [
    "corr = df.corr().round(2)\n",
    "plt.figure(figsize = (30,20))\n",
    "sns.heatmap(corr, annot = True, cmap = 'Reds')"
   ]
  },
  {
   "cell_type": "code",
   "execution_count": null,
   "id": "14e13430",
   "metadata": {},
   "outputs": [],
   "source": [
    "fig = plt.figure(figsize=(8,8))\n",
    "sns.barplot(x = df['readmitted'], y = df['num_medications']).set_title(\"Number of medication used VS. Readmission\")"
   ]
  },
  {
   "cell_type": "code",
   "execution_count": 46,
   "id": "800133eb",
   "metadata": {},
   "outputs": [
    {
     "data": {
      "image/png": "[encoded data removed]",
      "text/plain": [
       "<Figure size 800x600 with 1 Axes>"
      ]
     },
     "metadata": {},
     "output_type": "display_data"
    }
   ],
   "source": [
    "# Create a countplot using Seaborn\n",
    "plt.figure(figsize=(8, 6))\n",
    "sns.countplot(data=df, x='readmitted')\n",
    "\n",
    "# Set plot title and labels\n",
    "plt.title('Distribution of Readmission')\n",
    "plt.xlabel('Readmission Categories')\n",
    "plt.ylabel('Count')\n",
    "\n",
    "plt.show()"
   ]
  },
  {
   "cell_type": "code",
   "execution_count": 47,
   "id": "c92a7617",
   "metadata": {},
   "outputs": [
    {
     "name": "stderr",
     "output_type": "stream",
     "text": [
      "/var/folders/c0/452r622j0xn4v2ht050w6y_w0000gn/T/ipykernel_54762/1045526550.py:3: FutureWarning: \n",
      "\n",
      "`shade` is now deprecated in favor of `fill`; setting `fill=True`.\n",
      "This will become an error in seaborn v0.14.0; please update your code.\n",
      "\n",
      "  ax = sns.kdeplot(df.loc[(df['readmitted'] == 0), 'time_in_hospital'], color='b', shade=True, label='Not Readmitted')\n",
      "/var/folders/c0/452r622j0xn4v2ht050w6y_w0000gn/T/ipykernel_54762/1045526550.py:5: FutureWarning: \n",
      "\n",
      "`shade` is now deprecated in favor of `fill`; setting `fill=True`.\n",
      "This will become an error in seaborn v0.14.0; please update your code.\n",
      "\n",
      "  ax = sns.kdeplot(df.loc[(df['readmitted'] == 1), 'time_in_hospital'], color='r', shade=True, label='Readmitted')\n"
     ]
    },
    {
     "data": {
      "image/png": "[encoded data removed]",
      "text/plain": [
       "<Figure size 1300x700 with 1 Axes>"
      ]
     },
     "metadata": {},
     "output_type": "display_data"
    }
   ],
   "source": [
    "fig = plt.figure(figsize=(13, 7))\n",
    "\n",
    "ax = sns.kdeplot(df.loc[(df['readmitted'] == 0), 'time_in_hospital'], color='b', shade=True, label='Not Readmitted')\n",
    "\n",
    "ax = sns.kdeplot(df.loc[(df['readmitted'] == 1), 'time_in_hospital'], color='r', shade=True, label='Readmitted')\n",
    "\n",
    "ax.set(xlabel='Time in Hospital', ylabel='Frequency')\n",
    "\n",
    "plt.title('Time in Hospital VS. Readmission')\n",
    "\n",
    "plt.legend(title='Readmission Status', loc='best')\n",
    "\n",
    "plt.show()\n"
   ]
  },
  {
   "cell_type": "code",
   "execution_count": 48,
   "id": "0b8b948f",
   "metadata": {},
   "outputs": [
    {
     "data": {
      "text/plain": [
       "Text(0.5, 1.0, 'Age of Patient VS. Readmission')"
      ]
     },
     "execution_count": 48,
     "metadata": {},
     "output_type": "execute_result"
    },
    {
     "data": {
      "image/png": "[encoded data removed]",
      "text/plain": [
       "<Figure size 1500x1000 with 1 Axes>"
      ]
     },
     "metadata": {},
     "output_type": "display_data"
    }
   ],
   "source": [
    "fig = plt.figure(figsize=(15,10))\n",
    "sns.countplot(y= df['age'], hue = df['readmitted']).set_title('Age of Patient VS. Readmission')"
   ]
  },
  {
   "cell_type": "code",
   "execution_count": 49,
   "id": "a71c83e3",
   "metadata": {},
   "outputs": [
    {
     "data": {
      "text/plain": [
       "Text(0.5, 1.0, 'Number of medication used VS. Readmission')"
      ]
     },
     "execution_count": 49,
     "metadata": {},
     "output_type": "execute_result"
    },
    {
     "data": {
      "image/png": "[encoded data removed]",
      "text/plain": [
       "<Figure size 800x800 with 1 Axes>"
      ]
     },
     "metadata": {},
     "output_type": "display_data"
    }
   ],
   "source": [
    "fig = plt.figure(figsize=(8,8))\n",
    "sns.barplot(x = df['readmitted'], y = df['num_medications']).set_title(\"Number of medication used VS. Readmission\")"
   ]
  },
  {
   "cell_type": "code",
   "execution_count": 50,
   "id": "bfb2b8a1",
   "metadata": {},
   "outputs": [
    {
     "data": {
      "text/plain": [
       "Text(0.5, 1.0, 'Service Utilization VS. Readmission')"
      ]
     },
     "execution_count": 50,
     "metadata": {},
     "output_type": "execute_result"
    },
    {
     "data": {
      "image/png": "[encoded data removed]",
      "text/plain": [
       "<Figure size 800x800 with 1 Axes>"
      ]
     },
     "metadata": {},
     "output_type": "display_data"
    }
   ],
   "source": [
    "fig = plt.figure(figsize=(8,8))\n",
    "sns.barplot( y = df['service_utilization'], x = df['readmitted']).set_title('Service Utilization VS. Readmission')"
   ]
  },
  {
   "cell_type": "code",
   "execution_count": 51,
   "id": "35e1e84a",
   "metadata": {},
   "outputs": [
    {
     "name": "stderr",
     "output_type": "stream",
     "text": [
      "/var/folders/c0/452r622j0xn4v2ht050w6y_w0000gn/T/ipykernel_54762/1261402117.py:2: FutureWarning: \n",
      "\n",
      "`shade` is now deprecated in favor of `fill`; setting `fill=True`.\n",
      "This will become an error in seaborn v0.14.0; please update your code.\n",
      "\n",
      "  ax=sns.kdeplot(df.loc[(df['readmitted'] == 0),'num_lab_procedures'] , color='b',shade=True,label='Not readmitted')\n",
      "/var/folders/c0/452r622j0xn4v2ht050w6y_w0000gn/T/ipykernel_54762/1261402117.py:3: FutureWarning: \n",
      "\n",
      "`shade` is now deprecated in favor of `fill`; setting `fill=True`.\n",
      "This will become an error in seaborn v0.14.0; please update your code.\n",
      "\n",
      "  ax=sns.kdeplot(df.loc[(df['readmitted'] == 1),'num_lab_procedures'] , color='r',shade=True, label='readmitted')\n"
     ]
    },
    {
     "data": {
      "text/plain": [
       "Text(0.5, 1.0, 'Number of lab procedure VS. Readmission')"
      ]
     },
     "execution_count": 51,
     "metadata": {},
     "output_type": "execute_result"
    },
    {
     "data": {
      "image/png": "[encoded data removed]",
      "text/plain": [
       "<Figure size 1500x600 with 1 Axes>"
      ]
     },
     "metadata": {},
     "output_type": "display_data"
    }
   ],
   "source": [
    "fig = plt.figure(figsize=(15,6),)\n",
    "ax=sns.kdeplot(df.loc[(df['readmitted'] == 0),'num_lab_procedures'] , color='b',shade=True,label='Not readmitted')\n",
    "ax=sns.kdeplot(df.loc[(df['readmitted'] == 1),'num_lab_procedures'] , color='r',shade=True, label='readmitted')\n",
    "ax.set(xlabel='Number of lab procedure', ylabel='Frequency')\n",
    "plt.title('Number of lab procedure VS. Readmission')"
   ]
  },
  {
   "cell_type": "code",
   "execution_count": 52,
   "id": "09988e9c",
   "metadata": {},
   "outputs": [],
   "source": [
    "class NaiveBayes:\n",
    "    def __init__(self):\n",
    "        self.class_probs = None\n",
    "        self.feature_probs = None\n",
    "    \n",
    "    def fit(self, X, y):\n",
    "        # Calculate class probabilities\n",
    "        classes = np.unique(y)\n",
    "        self.class_probs = {}\n",
    "        for c in classes:\n",
    "            self.class_probs[c] = np.sum(y == c) / len(y)\n",
    "        \n",
    "        # Calculate feature probabilities per class\n",
    "        self.feature_probs = {}\n",
    "        for c in classes:\n",
    "            X_c = X[y == c]\n",
    "            feature_probs_c = {}\n",
    "            for i in range(X.shape[1]):\n",
    "                feature_probs_c[i] = {}\n",
    "                feature_values = np.unique(X[:, i])\n",
    "                for value in feature_values:\n",
    "                    feature_probs_c[i][value] = np.sum(X_c[:, i] == value) / len(X_c)\n",
    "            self.feature_probs[c] = feature_probs_c\n",
    "\n",
    "    def predict(self, X):\n",
    "        predictions = []\n",
    "        for row in X:\n",
    "            row_probs = {}\n",
    "            for c in self.class_probs:\n",
    "                prob = np.log(self.class_probs[c])\n",
    "                for i in range(len(row)):\n",
    "                    prob += np.log(self.feature_probs[c][i].get(row[i], 1e-5))  # Add smoothing\n",
    "                row_probs[c] = prob\n",
    "            predictions.append(max(row_probs, key=row_probs.get))\n",
    "        return np.array(predictions)\n"
   ]
  },
  {
   "cell_type": "code",
   "execution_count": 64,
   "id": "850e22a8-5f13-4407-b7bc-69a530906793",
   "metadata": {},
   "outputs": [],
   "source": [
    "class LogisticRegression:\n",
    "    def __init__(self, learning_rate=0.01, iterations=1000):\n",
    "        self.learning_rate = learning_rate\n",
    "        self.iterations = iterations\n",
    "        self.weights = None\n",
    "        self.bias = 0\n",
    "    \n",
    "    def sigmoid(self, z):\n",
    "        return 1 / (1 + np.exp(-z))\n",
    "    \n",
    "    def fit(self, X, y):\n",
    "        m, n = X.shape\n",
    "        self.weights = np.zeros(n)\n",
    "        for _ in range(self.iterations):\n",
    "            linear_model = np.dot(X, self.weights) + self.bias\n",
    "            predictions = self.sigmoid(linear_model)\n",
    "            error = predictions - y\n",
    "            self.weights -= (self.learning_rate / m) * np.dot(X.T, error)\n",
    "            self.bias -= (self.learning_rate / m) * np.sum(error)\n",
    "    \n",
    "    def predict(self, X):\n",
    "        linear_model = np.dot(X, self.weights) + self.bias\n",
    "        predictions = self.sigmoid(linear_model)\n",
    "        return np.round(predictions)\n"
   ]
  },
  {
   "cell_type": "code",
   "execution_count": 65,
   "id": "09b7699f-2dd5-4d91-a180-267d20c8e0aa",
   "metadata": {},
   "outputs": [],
   "source": [
    "class SVM:\n",
    "    def __init__(self, learning_rate=0.01, regularization_param=0.01, iterations=1000):\n",
    "        self.learning_rate = learning_rate\n",
    "        self.regularization_param = regularization_param\n",
    "        self.iterations = iterations\n",
    "        self.weights = None\n",
    "        self.bias = 0\n",
    "    \n",
    "    def fit(self, X, y):\n",
    "        m, n = X.shape\n",
    "        self.weights = np.zeros(n)\n",
    "        for _ in range(self.iterations):\n",
    "            for i in range(m):\n",
    "                if y[i] * (np.dot(X[i], self.weights) + self.bias) < 1:\n",
    "                    self.weights -= self.learning_rate * (2 * self.regularization_param * self.weights - np.dot(X[i], y[i]))\n",
    "                    self.bias -= self.learning_rate * y[i]\n",
    "                else:\n",
    "                    self.weights -= self.learning_rate * 2 * self.regularization_param * self.weights\n",
    "        return self\n",
    "    \n",
    "    def predict(self, X):\n",
    "        linear_model = np.dot(X, self.weights) + self.bias\n",
    "        return np.sign(linear_model)\n"
   ]
  },
  {
   "cell_type": "code",
   "execution_count": null,
   "id": "d45b56c4-814f-478b-8add-d2ad3fb9d4c8",
   "metadata": {},
   "outputs": [],
   "source": []
  }
 ],
 "metadata": {
  "kernelspec": {
   "display_name": "Python 3 (ipykernel)",
   "language": "python",
   "name": "python3"
  },
  "language_info": {
   "codemirror_mode": {
    "name": "ipython",
    "version": 3
   },
   "file_extension": ".py",
   "mimetype": "text/x-python",
   "name": "python",
   "nbconvert_exporter": "python",
   "pygments_lexer": "ipython3",
   "version": "3.11.5"
  }
 },
 "nbformat": 4,
 "nbformat_minor": 5
}
