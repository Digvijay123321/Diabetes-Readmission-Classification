{
 "cells": [
  {
   "cell_type": "code",
   "execution_count": 1,
   "id": "1d24789a",
   "metadata": {},
   "outputs": [],
   "source": [
    "import pandas as pd\n",
    "import numpy as np"
   ]
  },
  {
   "cell_type": "code",
   "execution_count": 2,
   "id": "11261dab",
   "metadata": {},
   "outputs": [],
   "source": [
    "ids_df = pd.read_csv(\"./IDS_mapping.csv\")\n",
    "df = pd.read_csv(\"./diabetic_data.csv\")"
   ]
  },
  {
   "cell_type": "code",
   "execution_count": 3,
   "id": "f5683e2a",
   "metadata": {},
   "outputs": [],
   "source": [
    "#splitting data of ids file\n",
    "admission_type_id_df = ids_df.iloc[:8]\n",
    "\n",
    "discharge_disposition_id_df = ids_df.iloc[10:40]\n",
    "discharge_disposition_id_df = discharge_disposition_id_df.rename(columns={'admission_type_id': 'discharge_disposition_id'})\n",
    "\n",
    "\n",
    "admission_source_id_df = ids_df.iloc[42:]\n",
    "admission_source_id_df = admission_source_id_df.rename(columns={'admission_type_id': 'admission_source_id'})\n"
   ]
  },
  {
   "cell_type": "code",
   "execution_count": 4,
   "id": "b30ac464",
   "metadata": {},
   "outputs": [
    {
     "data": {
      "text/html": [
       "<div>\n",
       "<style scoped>\n",
       "    .dataframe tbody tr th:only-of-type {\n",
       "        vertical-align: middle;\n",
       "    }\n",
       "\n",
       "    .dataframe tbody tr th {\n",
       "        vertical-align: top;\n",
       "    }\n",
       "\n",
       "    .dataframe thead th {\n",
       "        text-align: right;\n",
       "    }\n",
       "</style>\n",
       "<table border=\"1\" class=\"dataframe\">\n",
       "  <thead>\n",
       "    <tr style=\"text-align: right;\">\n",
       "      <th></th>\n",
       "      <th>discharge_disposition_id</th>\n",
       "      <th>description</th>\n",
       "    </tr>\n",
       "  </thead>\n",
       "  <tbody>\n",
       "    <tr>\n",
       "      <th>10</th>\n",
       "      <td>1</td>\n",
       "      <td>Discharged to home</td>\n",
       "    </tr>\n",
       "    <tr>\n",
       "      <th>11</th>\n",
       "      <td>2</td>\n",
       "      <td>Discharged/transferred to another short term h...</td>\n",
       "    </tr>\n",
       "    <tr>\n",
       "      <th>12</th>\n",
       "      <td>3</td>\n",
       "      <td>Discharged/transferred to SNF</td>\n",
       "    </tr>\n",
       "    <tr>\n",
       "      <th>13</th>\n",
       "      <td>4</td>\n",
       "      <td>Discharged/transferred to ICF</td>\n",
       "    </tr>\n",
       "    <tr>\n",
       "      <th>14</th>\n",
       "      <td>5</td>\n",
       "      <td>Discharged/transferred to another type of inpa...</td>\n",
       "    </tr>\n",
       "    <tr>\n",
       "      <th>15</th>\n",
       "      <td>6</td>\n",
       "      <td>Discharged/transferred to home with home healt...</td>\n",
       "    </tr>\n",
       "    <tr>\n",
       "      <th>16</th>\n",
       "      <td>7</td>\n",
       "      <td>Left AMA</td>\n",
       "    </tr>\n",
       "    <tr>\n",
       "      <th>17</th>\n",
       "      <td>8</td>\n",
       "      <td>Discharged/transferred to home under care of H...</td>\n",
       "    </tr>\n",
       "    <tr>\n",
       "      <th>18</th>\n",
       "      <td>9</td>\n",
       "      <td>Admitted as an inpatient to this hospital</td>\n",
       "    </tr>\n",
       "    <tr>\n",
       "      <th>19</th>\n",
       "      <td>10</td>\n",
       "      <td>Neonate discharged to another hospital for neo...</td>\n",
       "    </tr>\n",
       "    <tr>\n",
       "      <th>20</th>\n",
       "      <td>11</td>\n",
       "      <td>Expired</td>\n",
       "    </tr>\n",
       "    <tr>\n",
       "      <th>21</th>\n",
       "      <td>12</td>\n",
       "      <td>Still patient or expected to return for outpat...</td>\n",
       "    </tr>\n",
       "    <tr>\n",
       "      <th>22</th>\n",
       "      <td>13</td>\n",
       "      <td>Hospice / home</td>\n",
       "    </tr>\n",
       "    <tr>\n",
       "      <th>23</th>\n",
       "      <td>14</td>\n",
       "      <td>Hospice / medical facility</td>\n",
       "    </tr>\n",
       "    <tr>\n",
       "      <th>24</th>\n",
       "      <td>15</td>\n",
       "      <td>Discharged/transferred within this institution...</td>\n",
       "    </tr>\n",
       "    <tr>\n",
       "      <th>25</th>\n",
       "      <td>16</td>\n",
       "      <td>Discharged/transferred/referred another instit...</td>\n",
       "    </tr>\n",
       "    <tr>\n",
       "      <th>26</th>\n",
       "      <td>17</td>\n",
       "      <td>Discharged/transferred/referred to this instit...</td>\n",
       "    </tr>\n",
       "    <tr>\n",
       "      <th>27</th>\n",
       "      <td>18</td>\n",
       "      <td>NaN</td>\n",
       "    </tr>\n",
       "    <tr>\n",
       "      <th>28</th>\n",
       "      <td>19</td>\n",
       "      <td>Expired at home. Medicaid only, hospice.</td>\n",
       "    </tr>\n",
       "    <tr>\n",
       "      <th>29</th>\n",
       "      <td>20</td>\n",
       "      <td>Expired in a medical facility. Medicaid only, ...</td>\n",
       "    </tr>\n",
       "    <tr>\n",
       "      <th>30</th>\n",
       "      <td>21</td>\n",
       "      <td>Expired, place unknown. Medicaid only, hospice.</td>\n",
       "    </tr>\n",
       "    <tr>\n",
       "      <th>31</th>\n",
       "      <td>22</td>\n",
       "      <td>Discharged/transferred to another rehab fac in...</td>\n",
       "    </tr>\n",
       "    <tr>\n",
       "      <th>32</th>\n",
       "      <td>23</td>\n",
       "      <td>Discharged/transferred to a long term care hos...</td>\n",
       "    </tr>\n",
       "    <tr>\n",
       "      <th>33</th>\n",
       "      <td>24</td>\n",
       "      <td>Discharged/transferred to a nursing facility c...</td>\n",
       "    </tr>\n",
       "    <tr>\n",
       "      <th>34</th>\n",
       "      <td>25</td>\n",
       "      <td>Not Mapped</td>\n",
       "    </tr>\n",
       "    <tr>\n",
       "      <th>35</th>\n",
       "      <td>26</td>\n",
       "      <td>Unknown/Invalid</td>\n",
       "    </tr>\n",
       "    <tr>\n",
       "      <th>36</th>\n",
       "      <td>30</td>\n",
       "      <td>Discharged/transferred to another Type of Heal...</td>\n",
       "    </tr>\n",
       "    <tr>\n",
       "      <th>37</th>\n",
       "      <td>27</td>\n",
       "      <td>Discharged/transferred to a federal health car...</td>\n",
       "    </tr>\n",
       "    <tr>\n",
       "      <th>38</th>\n",
       "      <td>28</td>\n",
       "      <td>Discharged/transferred/referred to a psychiatr...</td>\n",
       "    </tr>\n",
       "    <tr>\n",
       "      <th>39</th>\n",
       "      <td>29</td>\n",
       "      <td>Discharged/transferred to a Critical Access Ho...</td>\n",
       "    </tr>\n",
       "  </tbody>\n",
       "</table>\n",
       "</div>"
      ],
      "text/plain": [
       "   discharge_disposition_id                                        description\n",
       "10                        1                                 Discharged to home\n",
       "11                        2  Discharged/transferred to another short term h...\n",
       "12                        3                      Discharged/transferred to SNF\n",
       "13                        4                      Discharged/transferred to ICF\n",
       "14                        5  Discharged/transferred to another type of inpa...\n",
       "15                        6  Discharged/transferred to home with home healt...\n",
       "16                        7                                           Left AMA\n",
       "17                        8  Discharged/transferred to home under care of H...\n",
       "18                        9          Admitted as an inpatient to this hospital\n",
       "19                       10  Neonate discharged to another hospital for neo...\n",
       "20                       11                                            Expired\n",
       "21                       12  Still patient or expected to return for outpat...\n",
       "22                       13                                     Hospice / home\n",
       "23                       14                         Hospice / medical facility\n",
       "24                       15  Discharged/transferred within this institution...\n",
       "25                       16  Discharged/transferred/referred another instit...\n",
       "26                       17  Discharged/transferred/referred to this instit...\n",
       "27                       18                                                NaN\n",
       "28                       19           Expired at home. Medicaid only, hospice.\n",
       "29                       20  Expired in a medical facility. Medicaid only, ...\n",
       "30                       21    Expired, place unknown. Medicaid only, hospice.\n",
       "31                       22  Discharged/transferred to another rehab fac in...\n",
       "32                       23  Discharged/transferred to a long term care hos...\n",
       "33                       24  Discharged/transferred to a nursing facility c...\n",
       "34                       25                                         Not Mapped\n",
       "35                       26                                    Unknown/Invalid\n",
       "36                       30  Discharged/transferred to another Type of Heal...\n",
       "37                       27  Discharged/transferred to a federal health car...\n",
       "38                       28  Discharged/transferred/referred to a psychiatr...\n",
       "39                       29  Discharged/transferred to a Critical Access Ho..."
      ]
     },
     "execution_count": 4,
     "metadata": {},
     "output_type": "execute_result"
    }
   ],
   "source": [
    "discharge_disposition_id_df"
   ]
  },
  {
   "cell_type": "code",
   "execution_count": 5,
   "id": "5cd8af4e",
   "metadata": {
    "scrolled": false
   },
   "outputs": [
    {
     "data": {
      "text/plain": [
       "encounter_id                    0\n",
       "patient_nbr                     0\n",
       "race                            0\n",
       "gender                          0\n",
       "age                             0\n",
       "weight                          0\n",
       "admission_type_id               0\n",
       "discharge_disposition_id        0\n",
       "admission_source_id             0\n",
       "time_in_hospital                0\n",
       "payer_code                      0\n",
       "medical_specialty               0\n",
       "num_lab_procedures              0\n",
       "num_procedures                  0\n",
       "num_medications                 0\n",
       "number_outpatient               0\n",
       "number_emergency                0\n",
       "number_inpatient                0\n",
       "diag_1                          0\n",
       "diag_2                          0\n",
       "diag_3                          0\n",
       "number_diagnoses                0\n",
       "max_glu_serum               96420\n",
       "A1Cresult                   84748\n",
       "metformin                       0\n",
       "repaglinide                     0\n",
       "nateglinide                     0\n",
       "chlorpropamide                  0\n",
       "glimepiride                     0\n",
       "acetohexamide                   0\n",
       "glipizide                       0\n",
       "glyburide                       0\n",
       "tolbutamide                     0\n",
       "pioglitazone                    0\n",
       "rosiglitazone                   0\n",
       "acarbose                        0\n",
       "miglitol                        0\n",
       "troglitazone                    0\n",
       "tolazamide                      0\n",
       "examide                         0\n",
       "citoglipton                     0\n",
       "insulin                         0\n",
       "glyburide-metformin             0\n",
       "glipizide-metformin             0\n",
       "glimepiride-pioglitazone        0\n",
       "metformin-rosiglitazone         0\n",
       "metformin-pioglitazone          0\n",
       "change                          0\n",
       "diabetesMed                     0\n",
       "readmitted                      0\n",
       "dtype: int64"
      ]
     },
     "execution_count": 5,
     "metadata": {},
     "output_type": "execute_result"
    }
   ],
   "source": [
    "df.isnull().sum()"
   ]
  },
  {
   "cell_type": "markdown",
   "id": "7d56250f",
   "metadata": {},
   "source": [
    "### we have,\n",
    "\n",
    "1. 30248 repeated patients\n",
    "2. all unique encounter_id\n",
    "3. 2273 patients with unknown race marked by '?'\n",
    "4. 3 records with 'Unknown/Invalid' gender\n",
    "5. all records of age\n",
    "6. 98569 unknown weights marked by '?'\n",
    "7. 9 admission_type_id\n",
    "8. discharge_disposition_id {21, 26} missing\n",
    "9. admission_source_id {12, 15, 16, 18, 19, 21, 23, 24} missing\n",
    "10. Integer: number of days between admission and discharge\n",
    "11. 40256 unknown payer_code marked by '?' with 17 distinct providers #why dataset info has 23 distinct values??\n",
    "12. 49949 unknown medical_specialty marked by '?' with 72 distinct specialist  #why dataset info has 84 distinct values??\n",
    "13. Number of lab tests performed during the encounter with min 1 and max 132\n",
    "14. Number of procedures (other than lab tests) performed during the encounter min 0 and max 6\n",
    "15. Number of distinct generic names administered during the encounter min 1 and max 81\n",
    "16. Number of outpatient visits of the patient in the year preceding the encounter(vistis without hospitalizing).\n",
    "17. Number of emergency visits of the patient in the year preceding the encounter\n",
    "18. The number of times a patient is admitted to a hospital for medical care\n",
    "19. The primary diagnosis (coded as first three digits of ICD9); 717 distinct values #why dataset info has 848 distinct values??\n",
    "20. Secondary diagnosis (coded as first three digits of ICD9); 749 distinct values #why dataset info has 923 distinct values??\n",
    "21. Additional secondary diagnosis (coded as first three digits of ICD9); 790 distinct values #why dataset info has 954 distinct values??\n",
    "22. Number of diagnoses entered to the system\n",
    "23. Indicates the range of the result or if the test was not taken. Values: >200, >300, normal, and none if not measured\n",
    "24. If the test was not taken. Values: >8 if the result was greater than 8%, >7 if the result was greater than 7% but less than 8%, normal if the result was less than 7%, and none if not measured.\n",
    "25. Whether the drug was prescribed or there was a change in the dosage.\n",
    "26. Whether the drug was prescribed or there was a change in the dosage.\n",
    "27. Whether the drug was prescribed or there was a change in the dosage.\n",
    "28. Whether the drug was prescribed or there was a change in the dosage.\n",
    "29. Whether the drug was prescribed or there was a change in the dosage.\n",
    "30. Whether the drug was prescribed or there was a change in the dosage. # why does dataset have 2 values\n",
    "31. Whether the drug was prescribed or there was a change in the dosage.\n",
    "32. Whether the drug was prescribed or there was a change in the dosage.\n",
    "33. Whether the drug was prescribed or there was a change in the dosage. # why does dataset have 2 values\n",
    "34. Whether the drug was prescribed or there was a change in the dosage.\n",
    "35. Whether the drug was prescribed or there was a change in the dosage.\n",
    "36. Whether the drug was prescribed or there was a change in the dosage.\n",
    "37. Whether the drug was prescribed or there was a change in the dosage.\n",
    "38. Whether the drug was prescribed or there was a change in the dosage. # why does dataset have 2 values\n",
    "39. Whether the drug was prescribed or there was a change in the dosage. # why does dataset have 3 values\n",
    "40. Whether the drug was prescribed or there was a change in the dosage. # why does dataset have 1 value i.e No\n",
    "41. Whether the drug was prescribed or there was a change in the dosage. # why does dataset have 1 value i.e No\n",
    "42. Whether the drug was prescribed or there was a change in the dosage.\n",
    "43. Whether the drug was prescribed or there was a change in the dosage.\n",
    "44. Whether the drug was prescribed or there was a change in the dosage. # why does dataset have 2 values\n",
    "45. Whether the drug was prescribed or there was a change in the dosage. # why does dataset have 2 values\n",
    "46. Whether the drug was prescribed or there was a change in the dosage. # why does dataset have 2 values\n",
    "47. Whether the drug was prescribed or there was a change in the dosage. # why does dataset have 2 values\n",
    "48. Indicates if there was a change in diabetic medications.\n",
    "49. Indicates if there was any diabetic medication prescribed.\n",
    "50. Days to inpatient readmission. {'<30', '>30', 'No'}"
   ]
  },
  {
   "cell_type": "code",
   "execution_count": 6,
   "id": "5077f23e",
   "metadata": {},
   "outputs": [],
   "source": [
    "# dropping 'max_glu_serum', 'A1Cresult' columns as the null values are too high\n",
    "df = df.drop(['max_glu_serum', 'A1Cresult'], axis = 1)"
   ]
  },
  {
   "cell_type": "code",
   "execution_count": 7,
   "id": "7fbbb51e",
   "metadata": {},
   "outputs": [
    {
     "data": {
      "text/plain": [
       "encounter_id                    0\n",
       "patient_nbr                     0\n",
       "race                         2273\n",
       "gender                          0\n",
       "age                             0\n",
       "weight                      98569\n",
       "admission_type_id               0\n",
       "discharge_disposition_id        0\n",
       "admission_source_id             0\n",
       "time_in_hospital                0\n",
       "payer_code                  40256\n",
       "medical_specialty           49949\n",
       "num_lab_procedures              0\n",
       "num_procedures                  0\n",
       "num_medications                 0\n",
       "number_outpatient               0\n",
       "number_emergency                0\n",
       "number_inpatient                0\n",
       "diag_1                         21\n",
       "diag_2                        358\n",
       "diag_3                       1423\n",
       "number_diagnoses                0\n",
       "metformin                       0\n",
       "repaglinide                     0\n",
       "nateglinide                     0\n",
       "chlorpropamide                  0\n",
       "glimepiride                     0\n",
       "acetohexamide                   0\n",
       "glipizide                       0\n",
       "glyburide                       0\n",
       "tolbutamide                     0\n",
       "pioglitazone                    0\n",
       "rosiglitazone                   0\n",
       "acarbose                        0\n",
       "miglitol                        0\n",
       "troglitazone                    0\n",
       "tolazamide                      0\n",
       "examide                         0\n",
       "citoglipton                     0\n",
       "insulin                         0\n",
       "glyburide-metformin             0\n",
       "glipizide-metformin             0\n",
       "glimepiride-pioglitazone        0\n",
       "metformin-rosiglitazone         0\n",
       "metformin-pioglitazone          0\n",
       "change                          0\n",
       "diabetesMed                     0\n",
       "readmitted                      0\n",
       "dtype: int64"
      ]
     },
     "execution_count": 7,
     "metadata": {},
     "output_type": "execute_result"
    }
   ],
   "source": [
    "# '?' existing in the data\n",
    "df.isin(['?']).sum()"
   ]
  },
  {
   "cell_type": "code",
   "execution_count": 8,
   "id": "4aefae95",
   "metadata": {},
   "outputs": [],
   "source": [
    "# print(df[df['medical_specialty'] == '?'].shape)\n",
    "\n",
    "# # has '?' in 2273 columns"
   ]
  },
  {
   "cell_type": "code",
   "execution_count": 9,
   "id": "7399194a",
   "metadata": {},
   "outputs": [],
   "source": [
    "# dropping 'weight', 'payer_code' and 'medical_specialty' columns - a lot of '?' values exist\n",
    "df = df.drop(['weight', 'payer_code', 'medical_specialty'], axis = 1)"
   ]
  },
  {
   "cell_type": "code",
   "execution_count": 10,
   "id": "7626f834",
   "metadata": {},
   "outputs": [],
   "source": [
    "df.replace('?', np.nan, inplace = True)"
   ]
  },
  {
   "cell_type": "code",
   "execution_count": 11,
   "id": "780a17a9",
   "metadata": {},
   "outputs": [
    {
     "data": {
      "text/plain": [
       "encounter_id                0\n",
       "patient_nbr                 0\n",
       "race                        0\n",
       "gender                      0\n",
       "age                         0\n",
       "admission_type_id           0\n",
       "discharge_disposition_id    0\n",
       "admission_source_id         0\n",
       "time_in_hospital            0\n",
       "num_lab_procedures          0\n",
       "num_procedures              0\n",
       "num_medications             0\n",
       "number_outpatient           0\n",
       "number_emergency            0\n",
       "number_inpatient            0\n",
       "diag_1                      0\n",
       "diag_2                      0\n",
       "diag_3                      0\n",
       "number_diagnoses            0\n",
       "metformin                   0\n",
       "repaglinide                 0\n",
       "nateglinide                 0\n",
       "chlorpropamide              0\n",
       "glimepiride                 0\n",
       "acetohexamide               0\n",
       "glipizide                   0\n",
       "glyburide                   0\n",
       "tolbutamide                 0\n",
       "pioglitazone                0\n",
       "rosiglitazone               0\n",
       "acarbose                    0\n",
       "miglitol                    0\n",
       "troglitazone                0\n",
       "tolazamide                  0\n",
       "examide                     0\n",
       "citoglipton                 0\n",
       "insulin                     0\n",
       "glyburide-metformin         0\n",
       "glipizide-metformin         0\n",
       "glimepiride-pioglitazone    0\n",
       "metformin-rosiglitazone     0\n",
       "metformin-pioglitazone      0\n",
       "change                      0\n",
       "diabetesMed                 0\n",
       "readmitted                  0\n",
       "dtype: int64"
      ]
     },
     "execution_count": 11,
     "metadata": {},
     "output_type": "execute_result"
    }
   ],
   "source": [
    "df.isin(['?']).sum()"
   ]
  },
  {
   "cell_type": "code",
   "execution_count": 12,
   "id": "ebf50769",
   "metadata": {},
   "outputs": [
    {
     "data": {
      "text/plain": [
       "encounter_id                   0\n",
       "patient_nbr                    0\n",
       "race                        2273\n",
       "gender                         0\n",
       "age                            0\n",
       "admission_type_id              0\n",
       "discharge_disposition_id       0\n",
       "admission_source_id            0\n",
       "time_in_hospital               0\n",
       "num_lab_procedures             0\n",
       "num_procedures                 0\n",
       "num_medications                0\n",
       "number_outpatient              0\n",
       "number_emergency               0\n",
       "number_inpatient               0\n",
       "diag_1                        21\n",
       "diag_2                       358\n",
       "diag_3                      1423\n",
       "number_diagnoses               0\n",
       "metformin                      0\n",
       "repaglinide                    0\n",
       "nateglinide                    0\n",
       "chlorpropamide                 0\n",
       "glimepiride                    0\n",
       "acetohexamide                  0\n",
       "glipizide                      0\n",
       "glyburide                      0\n",
       "tolbutamide                    0\n",
       "pioglitazone                   0\n",
       "rosiglitazone                  0\n",
       "acarbose                       0\n",
       "miglitol                       0\n",
       "troglitazone                   0\n",
       "tolazamide                     0\n",
       "examide                        0\n",
       "citoglipton                    0\n",
       "insulin                        0\n",
       "glyburide-metformin            0\n",
       "glipizide-metformin            0\n",
       "glimepiride-pioglitazone       0\n",
       "metformin-rosiglitazone        0\n",
       "metformin-pioglitazone         0\n",
       "change                         0\n",
       "diabetesMed                    0\n",
       "readmitted                     0\n",
       "dtype: int64"
      ]
     },
     "execution_count": 12,
     "metadata": {},
     "output_type": "execute_result"
    }
   ],
   "source": [
    "df.isnull().sum()"
   ]
  },
  {
   "cell_type": "code",
   "execution_count": 13,
   "id": "132be93c",
   "metadata": {},
   "outputs": [],
   "source": [
    "# As we have very less rows with null values - we can drop those rows\n",
    "df.dropna(inplace=True)"
   ]
  },
  {
   "cell_type": "code",
   "execution_count": 14,
   "id": "ca36e427",
   "metadata": {},
   "outputs": [
    {
     "data": {
      "text/plain": [
       "encounter_id                0\n",
       "patient_nbr                 0\n",
       "race                        0\n",
       "gender                      0\n",
       "age                         0\n",
       "admission_type_id           0\n",
       "discharge_disposition_id    0\n",
       "admission_source_id         0\n",
       "time_in_hospital            0\n",
       "num_lab_procedures          0\n",
       "num_procedures              0\n",
       "num_medications             0\n",
       "number_outpatient           0\n",
       "number_emergency            0\n",
       "number_inpatient            0\n",
       "diag_1                      0\n",
       "diag_2                      0\n",
       "diag_3                      0\n",
       "number_diagnoses            0\n",
       "metformin                   0\n",
       "repaglinide                 0\n",
       "nateglinide                 0\n",
       "chlorpropamide              0\n",
       "glimepiride                 0\n",
       "acetohexamide               0\n",
       "glipizide                   0\n",
       "glyburide                   0\n",
       "tolbutamide                 0\n",
       "pioglitazone                0\n",
       "rosiglitazone               0\n",
       "acarbose                    0\n",
       "miglitol                    0\n",
       "troglitazone                0\n",
       "tolazamide                  0\n",
       "examide                     0\n",
       "citoglipton                 0\n",
       "insulin                     0\n",
       "glyburide-metformin         0\n",
       "glipizide-metformin         0\n",
       "glimepiride-pioglitazone    0\n",
       "metformin-rosiglitazone     0\n",
       "metformin-pioglitazone      0\n",
       "change                      0\n",
       "diabetesMed                 0\n",
       "readmitted                  0\n",
       "dtype: int64"
      ]
     },
     "execution_count": 14,
     "metadata": {},
     "output_type": "execute_result"
    }
   ],
   "source": [
    "df.isnull().sum()"
   ]
  },
  {
   "cell_type": "code",
   "execution_count": 15,
   "id": "6f9f8345",
   "metadata": {},
   "outputs": [
    {
     "data": {
      "text/plain": [
       "(98053, 45)"
      ]
     },
     "execution_count": 15,
     "metadata": {},
     "output_type": "execute_result"
    }
   ],
   "source": [
    "df.shape"
   ]
  },
  {
   "cell_type": "code",
   "execution_count": 16,
   "id": "6ca6835b",
   "metadata": {},
   "outputs": [
    {
     "data": {
      "text/plain": [
       "encounter_id                 int64\n",
       "patient_nbr                  int64\n",
       "race                        object\n",
       "gender                      object\n",
       "age                         object\n",
       "admission_type_id            int64\n",
       "discharge_disposition_id     int64\n",
       "admission_source_id          int64\n",
       "time_in_hospital             int64\n",
       "num_lab_procedures           int64\n",
       "num_procedures               int64\n",
       "num_medications              int64\n",
       "number_outpatient            int64\n",
       "number_emergency             int64\n",
       "number_inpatient             int64\n",
       "diag_1                      object\n",
       "diag_2                      object\n",
       "diag_3                      object\n",
       "number_diagnoses             int64\n",
       "metformin                   object\n",
       "repaglinide                 object\n",
       "nateglinide                 object\n",
       "chlorpropamide              object\n",
       "glimepiride                 object\n",
       "acetohexamide               object\n",
       "glipizide                   object\n",
       "glyburide                   object\n",
       "tolbutamide                 object\n",
       "pioglitazone                object\n",
       "rosiglitazone               object\n",
       "acarbose                    object\n",
       "miglitol                    object\n",
       "troglitazone                object\n",
       "tolazamide                  object\n",
       "examide                     object\n",
       "citoglipton                 object\n",
       "insulin                     object\n",
       "glyburide-metformin         object\n",
       "glipizide-metformin         object\n",
       "glimepiride-pioglitazone    object\n",
       "metformin-rosiglitazone     object\n",
       "metformin-pioglitazone      object\n",
       "change                      object\n",
       "diabetesMed                 object\n",
       "readmitted                  object\n",
       "dtype: object"
      ]
     },
     "execution_count": 16,
     "metadata": {},
     "output_type": "execute_result"
    }
   ],
   "source": [
    "df.dtypes"
   ]
  },
  {
   "cell_type": "code",
   "execution_count": 17,
   "id": "bfcf3f55",
   "metadata": {},
   "outputs": [
    {
     "name": "stdout",
     "output_type": "stream",
     "text": [
      "<class 'pandas.core.frame.DataFrame'>\n",
      "Index: 98053 entries, 1 to 101765\n",
      "Data columns (total 45 columns):\n",
      " #   Column                    Non-Null Count  Dtype \n",
      "---  ------                    --------------  ----- \n",
      " 0   encounter_id              98053 non-null  int64 \n",
      " 1   patient_nbr               98053 non-null  int64 \n",
      " 2   race                      98053 non-null  object\n",
      " 3   gender                    98053 non-null  object\n",
      " 4   age                       98053 non-null  object\n",
      " 5   admission_type_id         98053 non-null  int64 \n",
      " 6   discharge_disposition_id  98053 non-null  int64 \n",
      " 7   admission_source_id       98053 non-null  int64 \n",
      " 8   time_in_hospital          98053 non-null  int64 \n",
      " 9   num_lab_procedures        98053 non-null  int64 \n",
      " 10  num_procedures            98053 non-null  int64 \n",
      " 11  num_medications           98053 non-null  int64 \n",
      " 12  number_outpatient         98053 non-null  int64 \n",
      " 13  number_emergency          98053 non-null  int64 \n",
      " 14  number_inpatient          98053 non-null  int64 \n",
      " 15  diag_1                    98053 non-null  object\n",
      " 16  diag_2                    98053 non-null  object\n",
      " 17  diag_3                    98053 non-null  object\n",
      " 18  number_diagnoses          98053 non-null  int64 \n",
      " 19  metformin                 98053 non-null  object\n",
      " 20  repaglinide               98053 non-null  object\n",
      " 21  nateglinide               98053 non-null  object\n",
      " 22  chlorpropamide            98053 non-null  object\n",
      " 23  glimepiride               98053 non-null  object\n",
      " 24  acetohexamide             98053 non-null  object\n",
      " 25  glipizide                 98053 non-null  object\n",
      " 26  glyburide                 98053 non-null  object\n",
      " 27  tolbutamide               98053 non-null  object\n",
      " 28  pioglitazone              98053 non-null  object\n",
      " 29  rosiglitazone             98053 non-null  object\n",
      " 30  acarbose                  98053 non-null  object\n",
      " 31  miglitol                  98053 non-null  object\n",
      " 32  troglitazone              98053 non-null  object\n",
      " 33  tolazamide                98053 non-null  object\n",
      " 34  examide                   98053 non-null  object\n",
      " 35  citoglipton               98053 non-null  object\n",
      " 36  insulin                   98053 non-null  object\n",
      " 37  glyburide-metformin       98053 non-null  object\n",
      " 38  glipizide-metformin       98053 non-null  object\n",
      " 39  glimepiride-pioglitazone  98053 non-null  object\n",
      " 40  metformin-rosiglitazone   98053 non-null  object\n",
      " 41  metformin-pioglitazone    98053 non-null  object\n",
      " 42  change                    98053 non-null  object\n",
      " 43  diabetesMed               98053 non-null  object\n",
      " 44  readmitted                98053 non-null  object\n",
      "dtypes: int64(13), object(32)\n",
      "memory usage: 34.4+ MB\n"
     ]
    }
   ],
   "source": [
    "df.info()"
   ]
  },
  {
   "cell_type": "code",
   "execution_count": 18,
   "id": "7ab2c777",
   "metadata": {},
   "outputs": [
    {
     "data": {
      "text/plain": [
       "Index(['encounter_id', 'patient_nbr', 'race', 'gender', 'age',\n",
       "       'admission_type_id', 'discharge_disposition_id', 'admission_source_id',\n",
       "       'time_in_hospital', 'num_lab_procedures', 'num_procedures',\n",
       "       'num_medications', 'number_outpatient', 'number_emergency',\n",
       "       'number_inpatient', 'diag_1', 'diag_2', 'diag_3', 'number_diagnoses',\n",
       "       'metformin', 'repaglinide', 'nateglinide', 'chlorpropamide',\n",
       "       'glimepiride', 'acetohexamide', 'glipizide', 'glyburide', 'tolbutamide',\n",
       "       'pioglitazone', 'rosiglitazone', 'acarbose', 'miglitol', 'troglitazone',\n",
       "       'tolazamide', 'examide', 'citoglipton', 'insulin',\n",
       "       'glyburide-metformin', 'glipizide-metformin',\n",
       "       'glimepiride-pioglitazone', 'metformin-rosiglitazone',\n",
       "       'metformin-pioglitazone', 'change', 'diabetesMed', 'readmitted'],\n",
       "      dtype='object')"
      ]
     },
     "execution_count": 18,
     "metadata": {},
     "output_type": "execute_result"
    }
   ],
   "source": [
    "df.columns"
   ]
  },
  {
   "cell_type": "code",
   "execution_count": 19,
   "id": "b9229011",
   "metadata": {},
   "outputs": [
    {
     "data": {
      "text/plain": [
       "gender\n",
       "Female             52833\n",
       "Male               45219\n",
       "Unknown/Invalid        1\n",
       "Name: count, dtype: int64"
      ]
     },
     "execution_count": 19,
     "metadata": {},
     "output_type": "execute_result"
    }
   ],
   "source": [
    "df['gender'].value_counts()"
   ]
  },
  {
   "cell_type": "code",
   "execution_count": 20,
   "id": "1e7cefbc",
   "metadata": {},
   "outputs": [
    {
     "data": {
      "text/plain": [
       "metformin\n",
       "No        78808\n",
       "Steady    17677\n",
       "Up         1017\n",
       "Down        551\n",
       "Name: count, dtype: int64"
      ]
     },
     "execution_count": 20,
     "metadata": {},
     "output_type": "execute_result"
    }
   ],
   "source": [
    "df['metformin'].value_counts()"
   ]
  },
  {
   "cell_type": "code",
   "execution_count": 21,
   "id": "35bc5c9f",
   "metadata": {},
   "outputs": [
    {
     "name": "stdout",
     "output_type": "stream",
     "text": [
      "Value counts for column 'metformin':\n",
      "metformin\n",
      "No        78808\n",
      "Steady    17677\n",
      "Up         1017\n",
      "Down        551\n",
      "Name: count, dtype: int64\n",
      "\n",
      "Value counts for column 'repaglinide':\n",
      "repaglinide\n",
      "No        96530\n",
      "Steady     1371\n",
      "Up          107\n",
      "Down         45\n",
      "Name: count, dtype: int64\n",
      "\n",
      "Value counts for column 'nateglinide':\n",
      "nateglinide\n",
      "No        97362\n",
      "Steady      657\n",
      "Up           23\n",
      "Down         11\n",
      "Name: count, dtype: int64\n",
      "\n",
      "Value counts for column 'chlorpropamide':\n",
      "chlorpropamide\n",
      "No        97970\n",
      "Steady       76\n",
      "Up            6\n",
      "Down          1\n",
      "Name: count, dtype: int64\n",
      "\n",
      "Value counts for column 'glimepiride':\n",
      "glimepiride\n",
      "No        93066\n",
      "Steady     4488\n",
      "Up          315\n",
      "Down        184\n",
      "Name: count, dtype: int64\n",
      "\n",
      "Value counts for column 'acetohexamide':\n",
      "acetohexamide\n",
      "No        98052\n",
      "Steady        1\n",
      "Name: count, dtype: int64\n",
      "\n",
      "Value counts for column 'glipizide':\n",
      "glipizide\n",
      "No        85769\n",
      "Steady    10991\n",
      "Up          752\n",
      "Down        541\n",
      "Name: count, dtype: int64\n",
      "\n",
      "Value counts for column 'glyburide':\n",
      "glyburide\n",
      "No        87792\n",
      "Steady     8932\n",
      "Up          791\n",
      "Down        538\n",
      "Name: count, dtype: int64\n",
      "\n",
      "Value counts for column 'tolbutamide':\n",
      "tolbutamide\n",
      "No        98031\n",
      "Steady       22\n",
      "Name: count, dtype: int64\n",
      "\n",
      "Value counts for column 'pioglitazone':\n",
      "pioglitazone\n",
      "No        90955\n",
      "Steady     6756\n",
      "Up          227\n",
      "Down        115\n",
      "Name: count, dtype: int64\n",
      "\n",
      "Value counts for column 'rosiglitazone':\n",
      "rosiglitazone\n",
      "No        91887\n",
      "Steady     5908\n",
      "Up          174\n",
      "Down         84\n",
      "Name: count, dtype: int64\n",
      "\n",
      "Value counts for column 'acarbose':\n",
      "acarbose\n",
      "No        97754\n",
      "Steady      286\n",
      "Up           10\n",
      "Down          3\n",
      "Name: count, dtype: int64\n",
      "\n",
      "Value counts for column 'miglitol':\n",
      "miglitol\n",
      "No        98016\n",
      "Steady       31\n",
      "Down          4\n",
      "Up            2\n",
      "Name: count, dtype: int64\n",
      "\n",
      "Value counts for column 'troglitazone':\n",
      "troglitazone\n",
      "No        98050\n",
      "Steady        3\n",
      "Name: count, dtype: int64\n",
      "\n",
      "Value counts for column 'tolazamide':\n",
      "tolazamide\n",
      "No        98016\n",
      "Steady       36\n",
      "Up            1\n",
      "Name: count, dtype: int64\n",
      "\n",
      "Value counts for column 'examide':\n",
      "examide\n",
      "No    98053\n",
      "Name: count, dtype: int64\n",
      "\n",
      "Value counts for column 'citoglipton':\n",
      "citoglipton\n",
      "No    98053\n",
      "Name: count, dtype: int64\n",
      "\n",
      "Value counts for column 'insulin':\n",
      "insulin\n",
      "No        45943\n",
      "Steady    29368\n",
      "Down      11843\n",
      "Up        10899\n",
      "Name: count, dtype: int64\n",
      "\n",
      "Value counts for column 'glyburide-metformin':\n",
      "glyburide-metformin\n",
      "No        97384\n",
      "Steady      660\n",
      "Up            6\n",
      "Down          3\n",
      "Name: count, dtype: int64\n",
      "\n",
      "Value counts for column 'glipizide-metformin':\n",
      "glipizide-metformin\n",
      "No        98040\n",
      "Steady       13\n",
      "Name: count, dtype: int64\n",
      "\n",
      "Value counts for column 'glimepiride-pioglitazone':\n",
      "glimepiride-pioglitazone\n",
      "No        98052\n",
      "Steady        1\n",
      "Name: count, dtype: int64\n",
      "\n",
      "Value counts for column 'metformin-rosiglitazone':\n",
      "metformin-rosiglitazone\n",
      "No    98053\n",
      "Name: count, dtype: int64\n",
      "\n",
      "Value counts for column 'metformin-pioglitazone':\n",
      "metformin-pioglitazone\n",
      "No        98052\n",
      "Steady        1\n",
      "Name: count, dtype: int64\n",
      "\n",
      "Value counts for column 'change':\n",
      "change\n",
      "No    52774\n",
      "Ch    45279\n",
      "Name: count, dtype: int64\n",
      "\n",
      "Value counts for column 'diabetesMed':\n",
      "diabetesMed\n",
      "Yes    75351\n",
      "No     22702\n",
      "Name: count, dtype: int64\n",
      "\n"
     ]
    }
   ],
   "source": [
    "# columns for which we need value_counts\n",
    "columns_of_interest = ['metformin', 'repaglinide', 'nateglinide', 'chlorpropamide',\n",
    "       'glimepiride', 'acetohexamide', 'glipizide', 'glyburide', 'tolbutamide',\n",
    "       'pioglitazone', 'rosiglitazone', 'acarbose', 'miglitol', 'troglitazone',\n",
    "       'tolazamide', 'examide', 'citoglipton', 'insulin',\n",
    "       'glyburide-metformin', 'glipizide-metformin',\n",
    "       'glimepiride-pioglitazone', 'metformin-rosiglitazone',\n",
    "       'metformin-pioglitazone', 'change', 'diabetesMed'] \n",
    "\n",
    "# Apply value_counts to the these columns\n",
    "value_counts_dict = {col: df[col].value_counts() for col in columns_of_interest}\n",
    "\n",
    "# Print the results\n",
    "for col, counts in value_counts_dict.items():\n",
    "    print(f\"Value counts for column '{col}':\")\n",
    "    print(counts)\n",
    "    print()\n"
   ]
  },
  {
   "cell_type": "code",
   "execution_count": 22,
   "id": "4dd0e830",
   "metadata": {},
   "outputs": [
    {
     "name": "stdout",
     "output_type": "stream",
     "text": [
      "Low-variance columns: ['examide', 'citoglipton', 'metformin-rosiglitazone']\n"
     ]
    }
   ],
   "source": [
    "# List of categorical columns\n",
    "categorical_columns = df.select_dtypes(include=['object', 'category']).columns\n",
    "\n",
    "# Threshold for low variance\n",
    "threshold = 0.999999999\n",
    "\n",
    "# Identify low-variance columns\n",
    "low_variance_cols = [\n",
    "    col for col in categorical_columns\n",
    "    if df[col].value_counts(normalize=True).max() > threshold\n",
    "]\n",
    "\n",
    "# Print low-variance columns\n",
    "print(f\"Low-variance columns: {low_variance_cols}\")"
   ]
  },
  {
   "cell_type": "code",
   "execution_count": 23,
   "id": "8a4574b1",
   "metadata": {},
   "outputs": [],
   "source": [
    "# dropping these columns which have very very low variance \n",
    "df = df.drop(['examide', 'citoglipton', 'metformin-rosiglitazone'], axis =1)"
   ]
  },
  {
   "cell_type": "code",
   "execution_count": 24,
   "id": "6e4d2acb",
   "metadata": {},
   "outputs": [],
   "source": [
    "# Summing all the visits together\n",
    "df['service_utilization'] = df['number_outpatient'] + df['number_emergency'] + df['number_inpatient']"
   ]
  },
  {
   "cell_type": "code",
   "execution_count": 25,
   "id": "4c197dea",
   "metadata": {},
   "outputs": [],
   "source": [
    "keys = ['metformin', 'repaglinide', 'nateglinide', 'chlorpropamide', 'glimepiride', 'glipizide', 'glyburide', 'pioglitazone', 'rosiglitazone', 'acarbose', 'miglitol', 'insulin', 'glyburide-metformin', 'tolazamide', 'metformin-pioglitazone', 'glimepiride-pioglitazone', 'glipizide-metformin', 'troglitazone', 'tolbutamide', 'acetohexamide']\n",
    "for col in keys:\n",
    "    colname = str(col) + 'temp'\n",
    "    df[colname] = df[col].apply(lambda x: 0 if (x == 'No' or x == 'Steady') else 1)"
   ]
  },
  {
   "cell_type": "code",
   "execution_count": 26,
   "id": "802f8829",
   "metadata": {},
   "outputs": [
    {
     "data": {
      "text/plain": [
       "numchange\n",
       "0    71310\n",
       "1    25350\n",
       "2     1281\n",
       "3      107\n",
       "4        5\n",
       "Name: count, dtype: int64"
      ]
     },
     "execution_count": 26,
     "metadata": {},
     "output_type": "execute_result"
    }
   ],
   "source": [
    "df['numchange'] = 0\n",
    "for col in keys:\n",
    "    colname = str(col) + 'temp'\n",
    "    df['numchange'] = df['numchange'] + df[colname]\n",
    "    del df[colname]\n",
    "\n",
    "df['numchange'].value_counts()"
   ]
  },
  {
   "cell_type": "markdown",
   "id": "3181f4b2",
   "metadata": {},
   "source": [
    "Few category types can be replaced by the other as they almost mean the same"
   ]
  },
  {
   "cell_type": "code",
   "execution_count": 27,
   "id": "c698989e",
   "metadata": {},
   "outputs": [],
   "source": [
    "df['admission_type_id'] = df['admission_type_id'].replace(2,1)\n",
    "df['admission_type_id'] = df['admission_type_id'].replace(7,1)\n",
    "df['admission_type_id'] = df['admission_type_id'].replace(6,5)\n",
    "df['admission_type_id'] = df['admission_type_id'].replace(8,5)"
   ]
  },
  {
   "cell_type": "code",
   "execution_count": 28,
   "id": "5d34551c",
   "metadata": {},
   "outputs": [],
   "source": [
    "df['discharge_disposition_id'] = df['discharge_disposition_id'].replace(6,1)\n",
    "df['discharge_disposition_id'] = df['discharge_disposition_id'].replace(8,1)\n",
    "df['discharge_disposition_id'] = df['discharge_disposition_id'].replace(9,1)\n",
    "df['discharge_disposition_id'] = df['discharge_disposition_id'].replace(13,1)\n",
    "df['discharge_disposition_id'] = df['discharge_disposition_id'].replace(3,2)\n",
    "df['discharge_disposition_id'] = df['discharge_disposition_id'].replace(4,2)\n",
    "df['discharge_disposition_id'] = df['discharge_disposition_id'].replace(5,2)\n",
    "df['discharge_disposition_id'] = df['discharge_disposition_id'].replace(14,2)\n",
    "df['discharge_disposition_id'] = df['discharge_disposition_id'].replace(22,2)\n",
    "df['discharge_disposition_id'] = df['discharge_disposition_id'].replace(23,2)\n",
    "df['discharge_disposition_id'] = df['discharge_disposition_id'].replace(24,2)\n",
    "df['discharge_disposition_id'] = df['discharge_disposition_id'].replace(12,10)\n",
    "df['discharge_disposition_id'] = df['discharge_disposition_id'].replace(15,10)\n",
    "df['discharge_disposition_id'] = df['discharge_disposition_id'].replace(16,10)\n",
    "df['discharge_disposition_id'] = df['discharge_disposition_id'].replace(17,10)\n",
    "df['discharge_disposition_id'] = df['discharge_disposition_id'].replace(25,18)\n",
    "df['discharge_disposition_id'] = df['discharge_disposition_id'].replace(26,18)"
   ]
  },
  {
   "cell_type": "code",
   "execution_count": 29,
   "id": "5dadddeb",
   "metadata": {},
   "outputs": [],
   "source": [
    "df['admission_source_id'] = df['admission_source_id'].replace(2,1)\n",
    "df['admission_source_id'] = df['admission_source_id'].replace(3,1)\n",
    "df['admission_source_id'] = df['admission_source_id'].replace(5,4)\n",
    "df['admission_source_id'] = df['admission_source_id'].replace(6,4)\n",
    "df['admission_source_id'] = df['admission_source_id'].replace(10,4)\n",
    "df['admission_source_id'] = df['admission_source_id'].replace(22,4)\n",
    "df['admission_source_id'] = df['admission_source_id'].replace(25,4)\n",
    "df['admission_source_id'] = df['admission_source_id'].replace(15,9)\n",
    "df['admission_source_id'] = df['admission_source_id'].replace(17,9)\n",
    "df['admission_source_id'] = df['admission_source_id'].replace(20,9)\n",
    "df['admission_source_id'] = df['admission_source_id'].replace(21,9)\n",
    "df['admission_source_id'] = df['admission_source_id'].replace(13,11)\n",
    "df['admission_source_id'] = df['admission_source_id'].replace(14,11)"
   ]
  },
  {
   "cell_type": "code",
   "execution_count": 30,
   "id": "34eac498",
   "metadata": {},
   "outputs": [
    {
     "name": "stderr",
     "output_type": "stream",
     "text": [
      "/var/folders/sl/p2bldhbn72jg5x6t45zg0_wm0000gn/T/ipykernel_16114/4019121076.py:2: FutureWarning: Downcasting behavior in `replace` is deprecated and will be removed in a future version. To retain the old behavior, explicitly call `result.infer_objects(copy=False)`. To opt-in to the future behavior, set `pd.set_option('future.no_silent_downcasting', True)`\n",
      "  df['change'] = df['change'].replace('No', 0)\n",
      "/var/folders/sl/p2bldhbn72jg5x6t45zg0_wm0000gn/T/ipykernel_16114/4019121076.py:6: FutureWarning: Downcasting behavior in `replace` is deprecated and will be removed in a future version. To retain the old behavior, explicitly call `result.infer_objects(copy=False)`. To opt-in to the future behavior, set `pd.set_option('future.no_silent_downcasting', True)`\n",
      "  df['diabetesMed'] = df['diabetesMed'].replace('No', 0)\n",
      "/var/folders/sl/p2bldhbn72jg5x6t45zg0_wm0000gn/T/ipykernel_16114/4019121076.py:12: FutureWarning: Downcasting behavior in `replace` is deprecated and will be removed in a future version. To retain the old behavior, explicitly call `result.infer_objects(copy=False)`. To opt-in to the future behavior, set `pd.set_option('future.no_silent_downcasting', True)`\n",
      "  df[col] = df[col].replace('Down', 1)\n",
      "/var/folders/sl/p2bldhbn72jg5x6t45zg0_wm0000gn/T/ipykernel_16114/4019121076.py:11: FutureWarning: Downcasting behavior in `replace` is deprecated and will be removed in a future version. To retain the old behavior, explicitly call `result.infer_objects(copy=False)`. To opt-in to the future behavior, set `pd.set_option('future.no_silent_downcasting', True)`\n",
      "  df[col] = df[col].replace('Up', 1)\n",
      "/var/folders/sl/p2bldhbn72jg5x6t45zg0_wm0000gn/T/ipykernel_16114/4019121076.py:10: FutureWarning: Downcasting behavior in `replace` is deprecated and will be removed in a future version. To retain the old behavior, explicitly call `result.infer_objects(copy=False)`. To opt-in to the future behavior, set `pd.set_option('future.no_silent_downcasting', True)`\n",
      "  df[col] = df[col].replace('Steady', 1)\n"
     ]
    }
   ],
   "source": [
    "df['change'] = df['change'].replace('Ch', 1)\n",
    "df['change'] = df['change'].replace('No', 0)\n",
    "df['gender'] = df['gender'].replace('Male', 1)\n",
    "df['gender'] = df['gender'].replace('Female', 0)\n",
    "df['diabetesMed'] = df['diabetesMed'].replace('Yes', 1)\n",
    "df['diabetesMed'] = df['diabetesMed'].replace('No', 0)\n",
    "# keys is the same as before\n",
    "for col in keys:\n",
    "    df[col] = df[col].replace('No', 0)\n",
    "    df[col] = df[col].replace('Steady', 1)\n",
    "    df[col] = df[col].replace('Up', 1)\n",
    "    df[col] = df[col].replace('Down', 1)"
   ]
  },
  {
   "cell_type": "code",
   "execution_count": 31,
   "id": "f3c8ed70",
   "metadata": {},
   "outputs": [
    {
     "name": "stderr",
     "output_type": "stream",
     "text": [
      "/var/folders/sl/p2bldhbn72jg5x6t45zg0_wm0000gn/T/ipykernel_16114/3167922647.py:2: FutureWarning: Downcasting behavior in `replace` is deprecated and will be removed in a future version. To retain the old behavior, explicitly call `result.infer_objects(copy=False)`. To opt-in to the future behavior, set `pd.set_option('future.no_silent_downcasting', True)`\n",
      "  df['age'] = df['age'].replace('['+str(10*i)+'-'+str(10*(i+1))+')', i+1)\n"
     ]
    },
    {
     "data": {
      "text/plain": [
       "age\n",
       "8     25306\n",
       "7     21809\n",
       "9     16702\n",
       "6     16697\n",
       "5      9265\n",
       "4      3548\n",
       "10     2717\n",
       "3      1478\n",
       "2       466\n",
       "1        65\n",
       "Name: count, dtype: int64"
      ]
     },
     "execution_count": 31,
     "metadata": {},
     "output_type": "execute_result"
    }
   ],
   "source": [
    "for i in range(0,10):\n",
    "    df['age'] = df['age'].replace('['+str(10*i)+'-'+str(10*(i+1))+')', i+1)\n",
    "df['age'].value_counts()"
   ]
  },
  {
   "cell_type": "code",
   "execution_count": 32,
   "id": "60d594b3",
   "metadata": {},
   "outputs": [
    {
     "data": {
      "text/plain": [
       "(98053, 44)"
      ]
     },
     "execution_count": 32,
     "metadata": {},
     "output_type": "execute_result"
    }
   ],
   "source": [
    "df.shape"
   ]
  }
 ],
 "metadata": {
  "kernelspec": {
   "display_name": "base",
   "language": "python",
   "name": "python3"
  },
  "language_info": {
   "codemirror_mode": {
    "name": "ipython",
    "version": 3
   },
   "file_extension": ".py",
   "mimetype": "text/x-python",
   "name": "python",
   "nbconvert_exporter": "python",
   "pygments_lexer": "ipython3",
   "version": "3.11.5"
  }
 },
 "nbformat": 4,
 "nbformat_minor": 5
}
